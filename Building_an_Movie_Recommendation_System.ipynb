{
  "nbformat": 4,
  "nbformat_minor": 0,
  "metadata": {
    "colab": {
      "provenance": [],
      "collapsed_sections": [
        "HVb5ePlu72TR"
      ],
      "authorship_tag": "ABX9TyPxbs9skNwALG3gUN7C0NI6",
      "include_colab_link": true
    },
    "kernelspec": {
      "name": "python3",
      "display_name": "Python 3"
    },
    "language_info": {
      "name": "python"
    }
  },
  "cells": [
    {
      "cell_type": "markdown",
      "metadata": {
        "id": "view-in-github",
        "colab_type": "text"
      },
      "source": [
        "<a href=\"https://colab.research.google.com/github/okweipeng/building-a-movie-recommender-system/blob/main/Building_an_Movie_Recommendation_System.ipynb\" target=\"_parent\"><img src=\"https://colab.research.google.com/assets/colab-badge.svg\" alt=\"Open In Colab\"/></a>"
      ]
    },
    {
      "cell_type": "markdown",
      "source": [
        "### **Project Task:**\n",
        "\n",
        "Build a recommender system using content-based filtering; Implement a recommender system that suggests documents or items (e.g., books, movies, or articles) based on their content similarity to the user’s preferences or past interactions\n",
        "\n",
        "In this case; Movies - based on their content similarity to the user's preferences/past interaction"
      ],
      "metadata": {
        "id": "ann16ORrXHpx"
      }
    },
    {
      "cell_type": "markdown",
      "source": [
        "**Files to be used via Github;**\n",
        "\n",
        "Source: https://github.com/reisanar/datasets/blob/master/HollywoodMovies.csv\n",
        "\n",
        "Includes an dataset of HollywoodMovies.csv from Reisanar (github)"
      ],
      "metadata": {
        "id": "OXC_hfbaI0bN"
      }
    },
    {
      "cell_type": "markdown",
      "source": [
        "#### **Imports to be used for this Project**"
      ],
      "metadata": {
        "id": "357uW1rFGknp"
      }
    },
    {
      "cell_type": "code",
      "source": [
        "#Import necessary libraries\n",
        "import pandas as pd\n",
        "import numpy as np\n",
        "#Converting text basd features into numeric values using TF-IDF technique\n",
        "from sklearn.feature_extraction.text import TfidfVectorizer\n",
        "#To compute the cosine similairty between movies to movies based on their TF-IDF vectors to find similarity\n",
        "from sklearn.metrics.pairwise import cosine_similarity\n",
        "#Normalizing numeric features; ensure consistency (optional - done for ranging values equally)\n",
        "from sklearn.preprocessing import StandardScaler\n",
        "\n",
        "# Optional; not task related imports (used for further exploration via visuals when possible; future revisits)\n",
        "import matplotlib.pyplot as plt\n",
        "import seaborn as sns"
      ],
      "metadata": {
        "id": "xbVgSIxeGuZ1"
      },
      "execution_count": null,
      "outputs": []
    },
    {
      "cell_type": "markdown",
      "source": [
        "Here we are loading in the neccessary imports"
      ],
      "metadata": {
        "id": "D0IOZKYVUFMJ"
      }
    },
    {
      "cell_type": "markdown",
      "source": [
        "####**Read in the dataset from github using the url**"
      ],
      "metadata": {
        "id": "Pgku17kPaYLF"
      }
    },
    {
      "cell_type": "code",
      "source": [
        "#Load the dataset from GitHub via URL with pandas\n",
        "url = \"https://raw.githubusercontent.com/reisanar/datasets/master/HollywoodMovies.csv\"\n",
        "\n",
        "#Read in the file; specification of url (previously)\n",
        "df = pd.read_csv(url)"
      ],
      "metadata": {
        "id": "-_-YV0nYIgqL"
      },
      "execution_count": null,
      "outputs": []
    },
    {
      "cell_type": "markdown",
      "source": [
        "To load in the dataset, Hollywood movies dataset from github provided by the Reisanar (github user), reading in the dataset via URL."
      ],
      "metadata": {
        "id": "topOClLwVXna"
      }
    },
    {
      "cell_type": "markdown",
      "source": [
        "#### **Understanding the dataset; the process**"
      ],
      "metadata": {
        "id": "PyFi31_5acDs"
      }
    },
    {
      "cell_type": "code",
      "source": [
        "#Print out the top 5 rows of the dataset for a viewing\n",
        "df.head()"
      ],
      "metadata": {
        "colab": {
          "base_uri": "https://localhost:8080/",
          "height": 365
        },
        "id": "UIN1WVXLUaMm",
        "outputId": "572ca68c-c774-472c-bb3a-72797d2c4be4"
      },
      "execution_count": null,
      "outputs": [
        {
          "output_type": "execute_result",
          "data": {
            "text/plain": [
              "                                       Movie   LeadStudio  RottenTomatoes  \\\n",
              "0                               Spider-Man 3         Sony            61.0   \n",
              "1                            Shrek the Third    Paramount            42.0   \n",
              "2                               Transformers    Paramount            57.0   \n",
              "3   Pirates of the Caribbean: At World's End       Disney            45.0   \n",
              "4  Harry Potter and the Order of the Phoenix  Warner Bros            78.0   \n",
              "\n",
              "   AudienceScore          Story      Genre  TheatersOpenWeek  OpeningWeekend  \\\n",
              "0           54.0  Metamorphosis     Action            4252.0           151.1   \n",
              "1           57.0          Quest  Animation            4122.0           121.6   \n",
              "2           89.0  Monster Force     Action            4011.0            70.5   \n",
              "3           74.0         Rescue     Action            4362.0           114.7   \n",
              "4           82.0          Quest  Adventure            4285.0            77.1   \n",
              "\n",
              "   BOAvgOpenWeekend  DomesticGross  ForeignGross  WorldGross  Budget  \\\n",
              "0           35540.0         336.53        554.34      890.87   258.0   \n",
              "1           29507.0         322.72        476.24      798.96   160.0   \n",
              "2           17577.0         319.25        390.46      709.71   150.0   \n",
              "3           26302.0         309.42        654.00      963.42   300.0   \n",
              "4           17998.0         292.00        647.88      939.89   150.0   \n",
              "\n",
              "   Profitability  OpenProfit  Year  \n",
              "0         345.30       58.57  2007  \n",
              "1         499.35       76.00  2007  \n",
              "2         473.14       47.00  2007  \n",
              "3         321.14       38.23  2007  \n",
              "4         626.59       51.40  2007  "
            ],
            "text/html": [
              "\n",
              "  <div id=\"df-ca7060d2-6a59-45b9-aa79-3a70fd1f9397\" class=\"colab-df-container\">\n",
              "    <div>\n",
              "<style scoped>\n",
              "    .dataframe tbody tr th:only-of-type {\n",
              "        vertical-align: middle;\n",
              "    }\n",
              "\n",
              "    .dataframe tbody tr th {\n",
              "        vertical-align: top;\n",
              "    }\n",
              "\n",
              "    .dataframe thead th {\n",
              "        text-align: right;\n",
              "    }\n",
              "</style>\n",
              "<table border=\"1\" class=\"dataframe\">\n",
              "  <thead>\n",
              "    <tr style=\"text-align: right;\">\n",
              "      <th></th>\n",
              "      <th>Movie</th>\n",
              "      <th>LeadStudio</th>\n",
              "      <th>RottenTomatoes</th>\n",
              "      <th>AudienceScore</th>\n",
              "      <th>Story</th>\n",
              "      <th>Genre</th>\n",
              "      <th>TheatersOpenWeek</th>\n",
              "      <th>OpeningWeekend</th>\n",
              "      <th>BOAvgOpenWeekend</th>\n",
              "      <th>DomesticGross</th>\n",
              "      <th>ForeignGross</th>\n",
              "      <th>WorldGross</th>\n",
              "      <th>Budget</th>\n",
              "      <th>Profitability</th>\n",
              "      <th>OpenProfit</th>\n",
              "      <th>Year</th>\n",
              "    </tr>\n",
              "  </thead>\n",
              "  <tbody>\n",
              "    <tr>\n",
              "      <th>0</th>\n",
              "      <td>Spider-Man 3</td>\n",
              "      <td>Sony</td>\n",
              "      <td>61.0</td>\n",
              "      <td>54.0</td>\n",
              "      <td>Metamorphosis</td>\n",
              "      <td>Action</td>\n",
              "      <td>4252.0</td>\n",
              "      <td>151.1</td>\n",
              "      <td>35540.0</td>\n",
              "      <td>336.53</td>\n",
              "      <td>554.34</td>\n",
              "      <td>890.87</td>\n",
              "      <td>258.0</td>\n",
              "      <td>345.30</td>\n",
              "      <td>58.57</td>\n",
              "      <td>2007</td>\n",
              "    </tr>\n",
              "    <tr>\n",
              "      <th>1</th>\n",
              "      <td>Shrek the Third</td>\n",
              "      <td>Paramount</td>\n",
              "      <td>42.0</td>\n",
              "      <td>57.0</td>\n",
              "      <td>Quest</td>\n",
              "      <td>Animation</td>\n",
              "      <td>4122.0</td>\n",
              "      <td>121.6</td>\n",
              "      <td>29507.0</td>\n",
              "      <td>322.72</td>\n",
              "      <td>476.24</td>\n",
              "      <td>798.96</td>\n",
              "      <td>160.0</td>\n",
              "      <td>499.35</td>\n",
              "      <td>76.00</td>\n",
              "      <td>2007</td>\n",
              "    </tr>\n",
              "    <tr>\n",
              "      <th>2</th>\n",
              "      <td>Transformers</td>\n",
              "      <td>Paramount</td>\n",
              "      <td>57.0</td>\n",
              "      <td>89.0</td>\n",
              "      <td>Monster Force</td>\n",
              "      <td>Action</td>\n",
              "      <td>4011.0</td>\n",
              "      <td>70.5</td>\n",
              "      <td>17577.0</td>\n",
              "      <td>319.25</td>\n",
              "      <td>390.46</td>\n",
              "      <td>709.71</td>\n",
              "      <td>150.0</td>\n",
              "      <td>473.14</td>\n",
              "      <td>47.00</td>\n",
              "      <td>2007</td>\n",
              "    </tr>\n",
              "    <tr>\n",
              "      <th>3</th>\n",
              "      <td>Pirates of the Caribbean: At World's End</td>\n",
              "      <td>Disney</td>\n",
              "      <td>45.0</td>\n",
              "      <td>74.0</td>\n",
              "      <td>Rescue</td>\n",
              "      <td>Action</td>\n",
              "      <td>4362.0</td>\n",
              "      <td>114.7</td>\n",
              "      <td>26302.0</td>\n",
              "      <td>309.42</td>\n",
              "      <td>654.00</td>\n",
              "      <td>963.42</td>\n",
              "      <td>300.0</td>\n",
              "      <td>321.14</td>\n",
              "      <td>38.23</td>\n",
              "      <td>2007</td>\n",
              "    </tr>\n",
              "    <tr>\n",
              "      <th>4</th>\n",
              "      <td>Harry Potter and the Order of the Phoenix</td>\n",
              "      <td>Warner Bros</td>\n",
              "      <td>78.0</td>\n",
              "      <td>82.0</td>\n",
              "      <td>Quest</td>\n",
              "      <td>Adventure</td>\n",
              "      <td>4285.0</td>\n",
              "      <td>77.1</td>\n",
              "      <td>17998.0</td>\n",
              "      <td>292.00</td>\n",
              "      <td>647.88</td>\n",
              "      <td>939.89</td>\n",
              "      <td>150.0</td>\n",
              "      <td>626.59</td>\n",
              "      <td>51.40</td>\n",
              "      <td>2007</td>\n",
              "    </tr>\n",
              "  </tbody>\n",
              "</table>\n",
              "</div>\n",
              "    <div class=\"colab-df-buttons\">\n",
              "\n",
              "  <div class=\"colab-df-container\">\n",
              "    <button class=\"colab-df-convert\" onclick=\"convertToInteractive('df-ca7060d2-6a59-45b9-aa79-3a70fd1f9397')\"\n",
              "            title=\"Convert this dataframe to an interactive table.\"\n",
              "            style=\"display:none;\">\n",
              "\n",
              "  <svg xmlns=\"http://www.w3.org/2000/svg\" height=\"24px\" viewBox=\"0 -960 960 960\">\n",
              "    <path d=\"M120-120v-720h720v720H120Zm60-500h600v-160H180v160Zm220 220h160v-160H400v160Zm0 220h160v-160H400v160ZM180-400h160v-160H180v160Zm440 0h160v-160H620v160ZM180-180h160v-160H180v160Zm440 0h160v-160H620v160Z\"/>\n",
              "  </svg>\n",
              "    </button>\n",
              "\n",
              "  <style>\n",
              "    .colab-df-container {\n",
              "      display:flex;\n",
              "      gap: 12px;\n",
              "    }\n",
              "\n",
              "    .colab-df-convert {\n",
              "      background-color: #E8F0FE;\n",
              "      border: none;\n",
              "      border-radius: 50%;\n",
              "      cursor: pointer;\n",
              "      display: none;\n",
              "      fill: #1967D2;\n",
              "      height: 32px;\n",
              "      padding: 0 0 0 0;\n",
              "      width: 32px;\n",
              "    }\n",
              "\n",
              "    .colab-df-convert:hover {\n",
              "      background-color: #E2EBFA;\n",
              "      box-shadow: 0px 1px 2px rgba(60, 64, 67, 0.3), 0px 1px 3px 1px rgba(60, 64, 67, 0.15);\n",
              "      fill: #174EA6;\n",
              "    }\n",
              "\n",
              "    .colab-df-buttons div {\n",
              "      margin-bottom: 4px;\n",
              "    }\n",
              "\n",
              "    [theme=dark] .colab-df-convert {\n",
              "      background-color: #3B4455;\n",
              "      fill: #D2E3FC;\n",
              "    }\n",
              "\n",
              "    [theme=dark] .colab-df-convert:hover {\n",
              "      background-color: #434B5C;\n",
              "      box-shadow: 0px 1px 3px 1px rgba(0, 0, 0, 0.15);\n",
              "      filter: drop-shadow(0px 1px 2px rgba(0, 0, 0, 0.3));\n",
              "      fill: #FFFFFF;\n",
              "    }\n",
              "  </style>\n",
              "\n",
              "    <script>\n",
              "      const buttonEl =\n",
              "        document.querySelector('#df-ca7060d2-6a59-45b9-aa79-3a70fd1f9397 button.colab-df-convert');\n",
              "      buttonEl.style.display =\n",
              "        google.colab.kernel.accessAllowed ? 'block' : 'none';\n",
              "\n",
              "      async function convertToInteractive(key) {\n",
              "        const element = document.querySelector('#df-ca7060d2-6a59-45b9-aa79-3a70fd1f9397');\n",
              "        const dataTable =\n",
              "          await google.colab.kernel.invokeFunction('convertToInteractive',\n",
              "                                                    [key], {});\n",
              "        if (!dataTable) return;\n",
              "\n",
              "        const docLinkHtml = 'Like what you see? Visit the ' +\n",
              "          '<a target=\"_blank\" href=https://colab.research.google.com/notebooks/data_table.ipynb>data table notebook</a>'\n",
              "          + ' to learn more about interactive tables.';\n",
              "        element.innerHTML = '';\n",
              "        dataTable['output_type'] = 'display_data';\n",
              "        await google.colab.output.renderOutput(dataTable, element);\n",
              "        const docLink = document.createElement('div');\n",
              "        docLink.innerHTML = docLinkHtml;\n",
              "        element.appendChild(docLink);\n",
              "      }\n",
              "    </script>\n",
              "  </div>\n",
              "\n",
              "\n",
              "<div id=\"df-2929cf09-4f52-4555-bdd6-595f64b0f2d8\">\n",
              "  <button class=\"colab-df-quickchart\" onclick=\"quickchart('df-2929cf09-4f52-4555-bdd6-595f64b0f2d8')\"\n",
              "            title=\"Suggest charts\"\n",
              "            style=\"display:none;\">\n",
              "\n",
              "<svg xmlns=\"http://www.w3.org/2000/svg\" height=\"24px\"viewBox=\"0 0 24 24\"\n",
              "     width=\"24px\">\n",
              "    <g>\n",
              "        <path d=\"M19 3H5c-1.1 0-2 .9-2 2v14c0 1.1.9 2 2 2h14c1.1 0 2-.9 2-2V5c0-1.1-.9-2-2-2zM9 17H7v-7h2v7zm4 0h-2V7h2v10zm4 0h-2v-4h2v4z\"/>\n",
              "    </g>\n",
              "</svg>\n",
              "  </button>\n",
              "\n",
              "<style>\n",
              "  .colab-df-quickchart {\n",
              "      --bg-color: #E8F0FE;\n",
              "      --fill-color: #1967D2;\n",
              "      --hover-bg-color: #E2EBFA;\n",
              "      --hover-fill-color: #174EA6;\n",
              "      --disabled-fill-color: #AAA;\n",
              "      --disabled-bg-color: #DDD;\n",
              "  }\n",
              "\n",
              "  [theme=dark] .colab-df-quickchart {\n",
              "      --bg-color: #3B4455;\n",
              "      --fill-color: #D2E3FC;\n",
              "      --hover-bg-color: #434B5C;\n",
              "      --hover-fill-color: #FFFFFF;\n",
              "      --disabled-bg-color: #3B4455;\n",
              "      --disabled-fill-color: #666;\n",
              "  }\n",
              "\n",
              "  .colab-df-quickchart {\n",
              "    background-color: var(--bg-color);\n",
              "    border: none;\n",
              "    border-radius: 50%;\n",
              "    cursor: pointer;\n",
              "    display: none;\n",
              "    fill: var(--fill-color);\n",
              "    height: 32px;\n",
              "    padding: 0;\n",
              "    width: 32px;\n",
              "  }\n",
              "\n",
              "  .colab-df-quickchart:hover {\n",
              "    background-color: var(--hover-bg-color);\n",
              "    box-shadow: 0 1px 2px rgba(60, 64, 67, 0.3), 0 1px 3px 1px rgba(60, 64, 67, 0.15);\n",
              "    fill: var(--button-hover-fill-color);\n",
              "  }\n",
              "\n",
              "  .colab-df-quickchart-complete:disabled,\n",
              "  .colab-df-quickchart-complete:disabled:hover {\n",
              "    background-color: var(--disabled-bg-color);\n",
              "    fill: var(--disabled-fill-color);\n",
              "    box-shadow: none;\n",
              "  }\n",
              "\n",
              "  .colab-df-spinner {\n",
              "    border: 2px solid var(--fill-color);\n",
              "    border-color: transparent;\n",
              "    border-bottom-color: var(--fill-color);\n",
              "    animation:\n",
              "      spin 1s steps(1) infinite;\n",
              "  }\n",
              "\n",
              "  @keyframes spin {\n",
              "    0% {\n",
              "      border-color: transparent;\n",
              "      border-bottom-color: var(--fill-color);\n",
              "      border-left-color: var(--fill-color);\n",
              "    }\n",
              "    20% {\n",
              "      border-color: transparent;\n",
              "      border-left-color: var(--fill-color);\n",
              "      border-top-color: var(--fill-color);\n",
              "    }\n",
              "    30% {\n",
              "      border-color: transparent;\n",
              "      border-left-color: var(--fill-color);\n",
              "      border-top-color: var(--fill-color);\n",
              "      border-right-color: var(--fill-color);\n",
              "    }\n",
              "    40% {\n",
              "      border-color: transparent;\n",
              "      border-right-color: var(--fill-color);\n",
              "      border-top-color: var(--fill-color);\n",
              "    }\n",
              "    60% {\n",
              "      border-color: transparent;\n",
              "      border-right-color: var(--fill-color);\n",
              "    }\n",
              "    80% {\n",
              "      border-color: transparent;\n",
              "      border-right-color: var(--fill-color);\n",
              "      border-bottom-color: var(--fill-color);\n",
              "    }\n",
              "    90% {\n",
              "      border-color: transparent;\n",
              "      border-bottom-color: var(--fill-color);\n",
              "    }\n",
              "  }\n",
              "</style>\n",
              "\n",
              "  <script>\n",
              "    async function quickchart(key) {\n",
              "      const quickchartButtonEl =\n",
              "        document.querySelector('#' + key + ' button');\n",
              "      quickchartButtonEl.disabled = true;  // To prevent multiple clicks.\n",
              "      quickchartButtonEl.classList.add('colab-df-spinner');\n",
              "      try {\n",
              "        const charts = await google.colab.kernel.invokeFunction(\n",
              "            'suggestCharts', [key], {});\n",
              "      } catch (error) {\n",
              "        console.error('Error during call to suggestCharts:', error);\n",
              "      }\n",
              "      quickchartButtonEl.classList.remove('colab-df-spinner');\n",
              "      quickchartButtonEl.classList.add('colab-df-quickchart-complete');\n",
              "    }\n",
              "    (() => {\n",
              "      let quickchartButtonEl =\n",
              "        document.querySelector('#df-2929cf09-4f52-4555-bdd6-595f64b0f2d8 button');\n",
              "      quickchartButtonEl.style.display =\n",
              "        google.colab.kernel.accessAllowed ? 'block' : 'none';\n",
              "    })();\n",
              "  </script>\n",
              "</div>\n",
              "\n",
              "    </div>\n",
              "  </div>\n"
            ],
            "application/vnd.google.colaboratory.intrinsic+json": {
              "type": "dataframe",
              "variable_name": "df",
              "summary": "{\n  \"name\": \"df\",\n  \"rows\": 970,\n  \"fields\": [\n    {\n      \"column\": \"Movie\",\n      \"properties\": {\n        \"dtype\": \"string\",\n        \"num_unique_values\": 968,\n        \"samples\": [\n          \"Moneyball\",\n          \"A Christmas Carol\",\n          \"Clash of the Titans\"\n        ],\n        \"semantic_type\": \"\",\n        \"description\": \"\"\n      }\n    },\n    {\n      \"column\": \"LeadStudio\",\n      \"properties\": {\n        \"dtype\": \"category\",\n        \"num_unique_values\": 59,\n        \"samples\": [\n          \"Sony\",\n          \"Fox\",\n          \"Legendary Pictures\"\n        ],\n        \"semantic_type\": \"\",\n        \"description\": \"\"\n      }\n    },\n    {\n      \"column\": \"RottenTomatoes\",\n      \"properties\": {\n        \"dtype\": \"number\",\n        \"std\": 26.82126753870761,\n        \"min\": 0.0,\n        \"max\": 99.0,\n        \"num_unique_values\": 100,\n        \"samples\": [\n          22.0,\n          49.0,\n          51.0\n        ],\n        \"semantic_type\": \"\",\n        \"description\": \"\"\n      }\n    },\n    {\n      \"column\": \"AudienceScore\",\n      \"properties\": {\n        \"dtype\": \"number\",\n        \"std\": 16.60245729510314,\n        \"min\": 19.0,\n        \"max\": 96.0,\n        \"num_unique_values\": 73,\n        \"samples\": [\n          82.0,\n          60.0,\n          66.0\n        ],\n        \"semantic_type\": \"\",\n        \"description\": \"\"\n      }\n    },\n    {\n      \"column\": \"Story\",\n      \"properties\": {\n        \"dtype\": \"category\",\n        \"num_unique_values\": 42,\n        \"samples\": [\n          \"fish out of water\",\n          \"Underdog\",\n          \"Transformation\"\n        ],\n        \"semantic_type\": \"\",\n        \"description\": \"\"\n      }\n    },\n    {\n      \"column\": \"Genre\",\n      \"properties\": {\n        \"dtype\": \"category\",\n        \"num_unique_values\": 14,\n        \"samples\": [\n          \"Romance\",\n          \"Documentary\",\n          \"Action\"\n        ],\n        \"semantic_type\": \"\",\n        \"description\": \"\"\n      }\n    },\n    {\n      \"column\": \"TheatersOpenWeek\",\n      \"properties\": {\n        \"dtype\": \"number\",\n        \"std\": 1164.2233563731022,\n        \"min\": 1.0,\n        \"max\": 4468.0,\n        \"num_unique_values\": 789,\n        \"samples\": [\n          2904.0,\n          2011.0,\n          4234.0\n        ],\n        \"semantic_type\": \"\",\n        \"description\": \"\"\n      }\n    },\n    {\n      \"column\": \"OpeningWeekend\",\n      \"properties\": {\n        \"dtype\": \"number\",\n        \"std\": 25.338689179111565,\n        \"min\": 0.01,\n        \"max\": 207.44,\n        \"num_unique_values\": 721,\n        \"samples\": [\n          20.8,\n          24.64,\n          3.4\n        ],\n        \"semantic_type\": \"\",\n        \"description\": \"\"\n      }\n    },\n    {\n      \"column\": \"BOAvgOpenWeekend\",\n      \"properties\": {\n        \"dtype\": \"number\",\n        \"std\": 10645.135564988996,\n        \"min\": 28.0,\n        \"max\": 147262.0,\n        \"num_unique_values\": 912,\n        \"samples\": [\n          6968.0,\n          83430.0,\n          2744.0\n        ],\n        \"semantic_type\": \"\",\n        \"description\": \"\"\n      }\n    },\n    {\n      \"column\": \"DomesticGross\",\n      \"properties\": {\n        \"dtype\": \"number\",\n        \"std\": 80.40996860959642,\n        \"min\": 0.06,\n        \"max\": 760.5,\n        \"num_unique_values\": 935,\n        \"samples\": [\n          29.58,\n          25.04,\n          13.85\n        ],\n        \"semantic_type\": \"\",\n        \"description\": \"\"\n      }\n    },\n    {\n      \"column\": \"ForeignGross\",\n      \"properties\": {\n        \"dtype\": \"number\",\n        \"std\": 155.9876962151833,\n        \"min\": 0.0,\n        \"max\": 2021.0,\n        \"num_unique_values\": 842,\n        \"samples\": [\n          0.58,\n          10.72,\n          44.457\n        ],\n        \"semantic_type\": \"\",\n        \"description\": \"\"\n      }\n    },\n    {\n      \"column\": \"WorldGross\",\n      \"properties\": {\n        \"dtype\": \"number\",\n        \"std\": 227.7443795785872,\n        \"min\": 0.1,\n        \"max\": 2781.5,\n        \"num_unique_values\": 899,\n        \"samples\": [\n          36.08,\n          116.98,\n          305.27\n        ],\n        \"semantic_type\": \"\",\n        \"description\": \"\"\n      }\n    },\n    {\n      \"column\": \"Budget\",\n      \"properties\": {\n        \"dtype\": \"number\",\n        \"std\": 53.75591408086347,\n        \"min\": 0.0,\n        \"max\": 300.0,\n        \"num_unique_values\": 151,\n        \"samples\": [\n          16.0,\n          60.0,\n          1.7\n        ],\n        \"semantic_type\": \"\",\n        \"description\": \"\"\n      }\n    },\n    {\n      \"column\": \"Profitability\",\n      \"properties\": {\n        \"dtype\": \"number\",\n        \"std\": 631.6660116017324,\n        \"min\": 2.3,\n        \"max\": 10175.85,\n        \"num_unique_values\": 883,\n        \"samples\": [\n          145.86,\n          175.33,\n          309.11\n        ],\n        \"semantic_type\": \"\",\n        \"description\": \"\"\n      }\n    },\n    {\n      \"column\": \"OpenProfit\",\n      \"properties\": {\n        \"dtype\": \"number\",\n        \"std\": 159.7132178426226,\n        \"min\": 0.16,\n        \"max\": 3373.0,\n        \"num_unique_values\": 810,\n        \"samples\": [\n          30.8,\n          2.31,\n          32.49\n        ],\n        \"semantic_type\": \"\",\n        \"description\": \"\"\n      }\n    },\n    {\n      \"column\": \"Year\",\n      \"properties\": {\n        \"dtype\": \"number\",\n        \"std\": 1,\n        \"min\": 2007,\n        \"max\": 2013,\n        \"num_unique_values\": 7,\n        \"samples\": [\n          2007,\n          2008,\n          2012\n        ],\n        \"semantic_type\": \"\",\n        \"description\": \"\"\n      }\n    }\n  ]\n}"
            }
          },
          "metadata": {},
          "execution_count": 3
        }
      ]
    },
    {
      "cell_type": "markdown",
      "source": [
        "**Check the rows + columns in existence**"
      ],
      "metadata": {
        "id": "P828FabV8aAa"
      }
    },
    {
      "cell_type": "code",
      "source": [
        "#Check the rows + columns (before preprocessing)\n",
        "df.shape"
      ],
      "metadata": {
        "colab": {
          "base_uri": "https://localhost:8080/"
        },
        "id": "xgiEh6P_YmqW",
        "outputId": "93b89381-3e92-4981-e188-15285cac6b1d"
      },
      "execution_count": null,
      "outputs": [
        {
          "output_type": "execute_result",
          "data": {
            "text/plain": [
              "(970, 16)"
            ]
          },
          "metadata": {},
          "execution_count": 4
        }
      ]
    },
    {
      "cell_type": "markdown",
      "source": [
        "#### **Copy the dataset before removing unnecesary rows/preprocessing (may or may not need for further data exploration); hidden cell**"
      ],
      "metadata": {
        "id": "HVb5ePlu72TR"
      }
    },
    {
      "cell_type": "code",
      "source": [
        "# Copying a new df; else if want to explore the df further (before column removals)\n",
        "new_df = df.copy()"
      ],
      "metadata": {
        "id": "ePaanxgp7-RZ"
      },
      "execution_count": null,
      "outputs": []
    },
    {
      "cell_type": "markdown",
      "source": [
        "#### **Dropping columns to not be utilized**"
      ],
      "metadata": {
        "id": "ZovtdLTCTqnp"
      }
    },
    {
      "cell_type": "code",
      "source": [
        "#Dropping non-needed columns (not be to utilized/not neccessary)\n",
        "df = df.drop(columns=['TheatersOpenWeek', 'OpeningWeekend', 'BOAvgOpenWeekend', 'DomesticGross', 'ForeignGross', 'WorldGross', 'Profitability', 'OpenProfit', 'Year'])"
      ],
      "metadata": {
        "id": "40yUsJH5E9n7"
      },
      "execution_count": null,
      "outputs": []
    },
    {
      "cell_type": "markdown",
      "source": [
        "#### **Dataset Preprocessing**"
      ],
      "metadata": {
        "id": "vuslKeqtd5Bm"
      }
    },
    {
      "cell_type": "markdown",
      "source": [
        "**Check for null/missing values within our dataset that is being used**"
      ],
      "metadata": {
        "id": "socvKzuI8fer"
      }
    },
    {
      "cell_type": "code",
      "source": [
        "#Check for missing values/null in relevant columns\n",
        "print(\"\\nNull Values:\")\n",
        "print(df.isnull().sum())"
      ],
      "metadata": {
        "colab": {
          "base_uri": "https://localhost:8080/"
        },
        "id": "RC7WerJVUPaI",
        "outputId": "c148dcb8-1e80-4fdb-df65-78ff4dfd4c04"
      },
      "execution_count": null,
      "outputs": [
        {
          "output_type": "stream",
          "name": "stdout",
          "text": [
            "\n",
            "Null Values:\n",
            "Movie               0\n",
            "LeadStudio          9\n",
            "RottenTomatoes     57\n",
            "AudienceScore      63\n",
            "Story             329\n",
            "Genre             279\n",
            "Budget             73\n",
            "dtype: int64\n"
          ]
        }
      ]
    },
    {
      "cell_type": "code",
      "source": [
        "\"\"\"\n",
        "Fills in any missing data so we don't leave blanks in the dataset.\n",
        "Uses 'Unknown' for missing text and the average value for missing numbers (e.g. ratings or budget)\n",
        "\"\"\"\n",
        "\n",
        "#Deals with missing/null values instead of leaving the dataset as it is (blank)\n",
        "df = df.assign(\n",
        "    LeadStudio=df['LeadStudio'].fillna('Unknown'),\n",
        "    RottenTomatoes=df['RottenTomatoes'].fillna(df['RottenTomatoes'].mean()),\n",
        "    AudienceScore=df['AudienceScore'].fillna(df['AudienceScore'].mean()),\n",
        "    Story=df['Story'].fillna('Unknown'),\n",
        "    Genre=df['Genre'].fillna('Unknown'),\n",
        "    Budget=df['Budget'].fillna(df['Budget'].mean())\n",
        ")"
      ],
      "metadata": {
        "id": "DqNivfxXUuVT"
      },
      "execution_count": null,
      "outputs": []
    },
    {
      "cell_type": "markdown",
      "source": [
        "**Filling/substituing missing values with unknown for various column fields**"
      ],
      "metadata": {
        "id": "LE2PzMMFhnul"
      }
    },
    {
      "cell_type": "markdown",
      "source": [
        "*Explaination:* Dealing with missing/null values; I have filled missing/null values,  \"unknown\", instead of leaving them blank/using an empty string. This helps keep an eye on where data is missing, rather than treating it as if within our dataset, or considering them as 'empty data' and utilizing it. Substituting it as 'unknown\" allows recognition of missing values of this dataset.\n",
        "\n",
        "With this approach it makes it easier to identify and handle these missing/empty values later in the process, contributing to a more consistent and manageable dataset."
      ],
      "metadata": {
        "id": "Qb69wcHCnFUR"
      }
    },
    {
      "cell_type": "markdown",
      "source": [
        "**Filling/substituing missing values with their mean for various features/columns**"
      ],
      "metadata": {
        "id": "BiWSt-TBhvkM"
      }
    },
    {
      "cell_type": "markdown",
      "source": [
        "*Explaination:* Since some fields consist of numeric values; the approach to handling missing values, to filling missing values with the mean for numerical columns; RottenTomatoes, AudienceScore, and Budget helps maintain the distribution of the data.\n",
        "\n",
        "The mean is often used because it represents the average value, making it a reasonable estimate for missing data in a dataset. Filling missing values with the mean aid to prevent errors from occurring due to incomplete data while keeping the overall data we are using intact."
      ],
      "metadata": {
        "id": "S4Cwb_W2h32A"
      }
    },
    {
      "cell_type": "markdown",
      "source": [
        "**Check for dataset duplicates (if any to be shown)**"
      ],
      "metadata": {
        "id": "M9mJnPq2ay-f"
      }
    },
    {
      "cell_type": "code",
      "source": [
        "# Print the duplicates to check; if theres any duplicates\n",
        "duplicates = df[df.duplicated]\n",
        "# Show duplicate rows (to be removed within the later/further process)\n",
        "duplicates"
      ],
      "metadata": {
        "colab": {
          "base_uri": "https://localhost:8080/",
          "height": 89
        },
        "id": "Q0b7pEKsYgBi",
        "outputId": "d21b2490-1eb9-4ada-d89e-50b05f9f4f70"
      },
      "execution_count": null,
      "outputs": [
        {
          "output_type": "execute_result",
          "data": {
            "text/plain": [
              "        Movie LeadStudio  RottenTomatoes  AudienceScore    Story    Genre  \\\n",
              "966  The Call    TriStar            43.0           66.0  Unknown  Unknown   \n",
              "\n",
              "     Budget  \n",
              "966    13.0  "
            ],
            "text/html": [
              "\n",
              "  <div id=\"df-321dc820-86d1-4280-ae3b-e69e8bb7257c\" class=\"colab-df-container\">\n",
              "    <div>\n",
              "<style scoped>\n",
              "    .dataframe tbody tr th:only-of-type {\n",
              "        vertical-align: middle;\n",
              "    }\n",
              "\n",
              "    .dataframe tbody tr th {\n",
              "        vertical-align: top;\n",
              "    }\n",
              "\n",
              "    .dataframe thead th {\n",
              "        text-align: right;\n",
              "    }\n",
              "</style>\n",
              "<table border=\"1\" class=\"dataframe\">\n",
              "  <thead>\n",
              "    <tr style=\"text-align: right;\">\n",
              "      <th></th>\n",
              "      <th>Movie</th>\n",
              "      <th>LeadStudio</th>\n",
              "      <th>RottenTomatoes</th>\n",
              "      <th>AudienceScore</th>\n",
              "      <th>Story</th>\n",
              "      <th>Genre</th>\n",
              "      <th>Budget</th>\n",
              "    </tr>\n",
              "  </thead>\n",
              "  <tbody>\n",
              "    <tr>\n",
              "      <th>966</th>\n",
              "      <td>The Call</td>\n",
              "      <td>TriStar</td>\n",
              "      <td>43.0</td>\n",
              "      <td>66.0</td>\n",
              "      <td>Unknown</td>\n",
              "      <td>Unknown</td>\n",
              "      <td>13.0</td>\n",
              "    </tr>\n",
              "  </tbody>\n",
              "</table>\n",
              "</div>\n",
              "    <div class=\"colab-df-buttons\">\n",
              "\n",
              "  <div class=\"colab-df-container\">\n",
              "    <button class=\"colab-df-convert\" onclick=\"convertToInteractive('df-321dc820-86d1-4280-ae3b-e69e8bb7257c')\"\n",
              "            title=\"Convert this dataframe to an interactive table.\"\n",
              "            style=\"display:none;\">\n",
              "\n",
              "  <svg xmlns=\"http://www.w3.org/2000/svg\" height=\"24px\" viewBox=\"0 -960 960 960\">\n",
              "    <path d=\"M120-120v-720h720v720H120Zm60-500h600v-160H180v160Zm220 220h160v-160H400v160Zm0 220h160v-160H400v160ZM180-400h160v-160H180v160Zm440 0h160v-160H620v160ZM180-180h160v-160H180v160Zm440 0h160v-160H620v160Z\"/>\n",
              "  </svg>\n",
              "    </button>\n",
              "\n",
              "  <style>\n",
              "    .colab-df-container {\n",
              "      display:flex;\n",
              "      gap: 12px;\n",
              "    }\n",
              "\n",
              "    .colab-df-convert {\n",
              "      background-color: #E8F0FE;\n",
              "      border: none;\n",
              "      border-radius: 50%;\n",
              "      cursor: pointer;\n",
              "      display: none;\n",
              "      fill: #1967D2;\n",
              "      height: 32px;\n",
              "      padding: 0 0 0 0;\n",
              "      width: 32px;\n",
              "    }\n",
              "\n",
              "    .colab-df-convert:hover {\n",
              "      background-color: #E2EBFA;\n",
              "      box-shadow: 0px 1px 2px rgba(60, 64, 67, 0.3), 0px 1px 3px 1px rgba(60, 64, 67, 0.15);\n",
              "      fill: #174EA6;\n",
              "    }\n",
              "\n",
              "    .colab-df-buttons div {\n",
              "      margin-bottom: 4px;\n",
              "    }\n",
              "\n",
              "    [theme=dark] .colab-df-convert {\n",
              "      background-color: #3B4455;\n",
              "      fill: #D2E3FC;\n",
              "    }\n",
              "\n",
              "    [theme=dark] .colab-df-convert:hover {\n",
              "      background-color: #434B5C;\n",
              "      box-shadow: 0px 1px 3px 1px rgba(0, 0, 0, 0.15);\n",
              "      filter: drop-shadow(0px 1px 2px rgba(0, 0, 0, 0.3));\n",
              "      fill: #FFFFFF;\n",
              "    }\n",
              "  </style>\n",
              "\n",
              "    <script>\n",
              "      const buttonEl =\n",
              "        document.querySelector('#df-321dc820-86d1-4280-ae3b-e69e8bb7257c button.colab-df-convert');\n",
              "      buttonEl.style.display =\n",
              "        google.colab.kernel.accessAllowed ? 'block' : 'none';\n",
              "\n",
              "      async function convertToInteractive(key) {\n",
              "        const element = document.querySelector('#df-321dc820-86d1-4280-ae3b-e69e8bb7257c');\n",
              "        const dataTable =\n",
              "          await google.colab.kernel.invokeFunction('convertToInteractive',\n",
              "                                                    [key], {});\n",
              "        if (!dataTable) return;\n",
              "\n",
              "        const docLinkHtml = 'Like what you see? Visit the ' +\n",
              "          '<a target=\"_blank\" href=https://colab.research.google.com/notebooks/data_table.ipynb>data table notebook</a>'\n",
              "          + ' to learn more about interactive tables.';\n",
              "        element.innerHTML = '';\n",
              "        dataTable['output_type'] = 'display_data';\n",
              "        await google.colab.output.renderOutput(dataTable, element);\n",
              "        const docLink = document.createElement('div');\n",
              "        docLink.innerHTML = docLinkHtml;\n",
              "        element.appendChild(docLink);\n",
              "      }\n",
              "    </script>\n",
              "  </div>\n",
              "\n",
              "\n",
              "  <div id=\"id_c318d7e6-b5e1-4974-bf0c-7ca6e5e11cef\">\n",
              "    <style>\n",
              "      .colab-df-generate {\n",
              "        background-color: #E8F0FE;\n",
              "        border: none;\n",
              "        border-radius: 50%;\n",
              "        cursor: pointer;\n",
              "        display: none;\n",
              "        fill: #1967D2;\n",
              "        height: 32px;\n",
              "        padding: 0 0 0 0;\n",
              "        width: 32px;\n",
              "      }\n",
              "\n",
              "      .colab-df-generate:hover {\n",
              "        background-color: #E2EBFA;\n",
              "        box-shadow: 0px 1px 2px rgba(60, 64, 67, 0.3), 0px 1px 3px 1px rgba(60, 64, 67, 0.15);\n",
              "        fill: #174EA6;\n",
              "      }\n",
              "\n",
              "      [theme=dark] .colab-df-generate {\n",
              "        background-color: #3B4455;\n",
              "        fill: #D2E3FC;\n",
              "      }\n",
              "\n",
              "      [theme=dark] .colab-df-generate:hover {\n",
              "        background-color: #434B5C;\n",
              "        box-shadow: 0px 1px 3px 1px rgba(0, 0, 0, 0.15);\n",
              "        filter: drop-shadow(0px 1px 2px rgba(0, 0, 0, 0.3));\n",
              "        fill: #FFFFFF;\n",
              "      }\n",
              "    </style>\n",
              "    <button class=\"colab-df-generate\" onclick=\"generateWithVariable('duplicates')\"\n",
              "            title=\"Generate code using this dataframe.\"\n",
              "            style=\"display:none;\">\n",
              "\n",
              "  <svg xmlns=\"http://www.w3.org/2000/svg\" height=\"24px\"viewBox=\"0 0 24 24\"\n",
              "       width=\"24px\">\n",
              "    <path d=\"M7,19H8.4L18.45,9,17,7.55,7,17.6ZM5,21V16.75L18.45,3.32a2,2,0,0,1,2.83,0l1.4,1.43a1.91,1.91,0,0,1,.58,1.4,1.91,1.91,0,0,1-.58,1.4L9.25,21ZM18.45,9,17,7.55Zm-12,3A5.31,5.31,0,0,0,4.9,8.1,5.31,5.31,0,0,0,1,6.5,5.31,5.31,0,0,0,4.9,4.9,5.31,5.31,0,0,0,6.5,1,5.31,5.31,0,0,0,8.1,4.9,5.31,5.31,0,0,0,12,6.5,5.46,5.46,0,0,0,6.5,12Z\"/>\n",
              "  </svg>\n",
              "    </button>\n",
              "    <script>\n",
              "      (() => {\n",
              "      const buttonEl =\n",
              "        document.querySelector('#id_c318d7e6-b5e1-4974-bf0c-7ca6e5e11cef button.colab-df-generate');\n",
              "      buttonEl.style.display =\n",
              "        google.colab.kernel.accessAllowed ? 'block' : 'none';\n",
              "\n",
              "      buttonEl.onclick = () => {\n",
              "        google.colab.notebook.generateWithVariable('duplicates');\n",
              "      }\n",
              "      })();\n",
              "    </script>\n",
              "  </div>\n",
              "\n",
              "    </div>\n",
              "  </div>\n"
            ],
            "application/vnd.google.colaboratory.intrinsic+json": {
              "type": "dataframe",
              "variable_name": "duplicates",
              "summary": "{\n  \"name\": \"duplicates\",\n  \"rows\": 1,\n  \"fields\": [\n    {\n      \"column\": \"Movie\",\n      \"properties\": {\n        \"dtype\": \"string\",\n        \"num_unique_values\": 1,\n        \"samples\": [\n          \"The Call\"\n        ],\n        \"semantic_type\": \"\",\n        \"description\": \"\"\n      }\n    },\n    {\n      \"column\": \"LeadStudio\",\n      \"properties\": {\n        \"dtype\": \"string\",\n        \"num_unique_values\": 1,\n        \"samples\": [\n          \"TriStar\"\n        ],\n        \"semantic_type\": \"\",\n        \"description\": \"\"\n      }\n    },\n    {\n      \"column\": \"RottenTomatoes\",\n      \"properties\": {\n        \"dtype\": \"number\",\n        \"std\": null,\n        \"min\": 43.0,\n        \"max\": 43.0,\n        \"num_unique_values\": 1,\n        \"samples\": [\n          43.0\n        ],\n        \"semantic_type\": \"\",\n        \"description\": \"\"\n      }\n    },\n    {\n      \"column\": \"AudienceScore\",\n      \"properties\": {\n        \"dtype\": \"number\",\n        \"std\": null,\n        \"min\": 66.0,\n        \"max\": 66.0,\n        \"num_unique_values\": 1,\n        \"samples\": [\n          66.0\n        ],\n        \"semantic_type\": \"\",\n        \"description\": \"\"\n      }\n    },\n    {\n      \"column\": \"Story\",\n      \"properties\": {\n        \"dtype\": \"string\",\n        \"num_unique_values\": 1,\n        \"samples\": [\n          \"Unknown\"\n        ],\n        \"semantic_type\": \"\",\n        \"description\": \"\"\n      }\n    },\n    {\n      \"column\": \"Genre\",\n      \"properties\": {\n        \"dtype\": \"string\",\n        \"num_unique_values\": 1,\n        \"samples\": [\n          \"Unknown\"\n        ],\n        \"semantic_type\": \"\",\n        \"description\": \"\"\n      }\n    },\n    {\n      \"column\": \"Budget\",\n      \"properties\": {\n        \"dtype\": \"number\",\n        \"std\": null,\n        \"min\": 13.0,\n        \"max\": 13.0,\n        \"num_unique_values\": 1,\n        \"samples\": [\n          13.0\n        ],\n        \"semantic_type\": \"\",\n        \"description\": \"\"\n      }\n    }\n  ]\n}"
            }
          },
          "metadata": {},
          "execution_count": 9
        }
      ]
    },
    {
      "cell_type": "markdown",
      "source": [
        "**Drop the duplicated row**"
      ],
      "metadata": {
        "id": "i4euzPsKFIn0"
      }
    },
    {
      "cell_type": "code",
      "source": [
        "# Dropping the duplicate\n",
        "df = df.drop_duplicates()"
      ],
      "metadata": {
        "id": "8vnd7zv2Yius"
      },
      "execution_count": null,
      "outputs": []
    },
    {
      "cell_type": "markdown",
      "source": [
        "**Note:** Here as we see two rows of the same; therefore we need to remove the duplicated row"
      ],
      "metadata": {
        "id": "ibQeno59alxZ"
      }
    },
    {
      "cell_type": "code",
      "source": [
        "# Dropping the duplicated row as shown in the earlier stage (now should not have any duplicates)\n",
        "duplicate_rows = df[df.duplicated()]\n",
        "print(f\"Number of duplicate rows now (after dropped): {len(duplicate_rows)}\")"
      ],
      "metadata": {
        "colab": {
          "base_uri": "https://localhost:8080/"
        },
        "id": "25KRkUizYkQZ",
        "outputId": "61fe674f-584e-4960-baaa-601474a2e029"
      },
      "execution_count": null,
      "outputs": [
        {
          "output_type": "stream",
          "name": "stdout",
          "text": [
            "Number of duplicate rows now (after dropped): 0\n"
          ]
        }
      ]
    },
    {
      "cell_type": "markdown",
      "source": [
        "**Review the new dataset after removing columns not utilized**"
      ],
      "metadata": {
        "id": "81tmZR1x8rbl"
      }
    },
    {
      "cell_type": "code",
      "source": [
        "# The new remaining rows to work with (utilized)\n",
        "df.head()"
      ],
      "metadata": {
        "colab": {
          "base_uri": "https://localhost:8080/",
          "height": 206
        },
        "id": "MAqYlsnBoRyk",
        "outputId": "69cf4cfc-5b1f-43f5-941e-d3b3cee9d43d"
      },
      "execution_count": null,
      "outputs": [
        {
          "output_type": "execute_result",
          "data": {
            "text/plain": [
              "                                       Movie   LeadStudio  RottenTomatoes  \\\n",
              "0                               Spider-Man 3         Sony            61.0   \n",
              "1                            Shrek the Third    Paramount            42.0   \n",
              "2                               Transformers    Paramount            57.0   \n",
              "3   Pirates of the Caribbean: At World's End       Disney            45.0   \n",
              "4  Harry Potter and the Order of the Phoenix  Warner Bros            78.0   \n",
              "\n",
              "   AudienceScore          Story      Genre  Budget  \n",
              "0           54.0  Metamorphosis     Action   258.0  \n",
              "1           57.0          Quest  Animation   160.0  \n",
              "2           89.0  Monster Force     Action   150.0  \n",
              "3           74.0         Rescue     Action   300.0  \n",
              "4           82.0          Quest  Adventure   150.0  "
            ],
            "text/html": [
              "\n",
              "  <div id=\"df-24664e36-dd28-4c91-a030-ae4cc728b5ff\" class=\"colab-df-container\">\n",
              "    <div>\n",
              "<style scoped>\n",
              "    .dataframe tbody tr th:only-of-type {\n",
              "        vertical-align: middle;\n",
              "    }\n",
              "\n",
              "    .dataframe tbody tr th {\n",
              "        vertical-align: top;\n",
              "    }\n",
              "\n",
              "    .dataframe thead th {\n",
              "        text-align: right;\n",
              "    }\n",
              "</style>\n",
              "<table border=\"1\" class=\"dataframe\">\n",
              "  <thead>\n",
              "    <tr style=\"text-align: right;\">\n",
              "      <th></th>\n",
              "      <th>Movie</th>\n",
              "      <th>LeadStudio</th>\n",
              "      <th>RottenTomatoes</th>\n",
              "      <th>AudienceScore</th>\n",
              "      <th>Story</th>\n",
              "      <th>Genre</th>\n",
              "      <th>Budget</th>\n",
              "    </tr>\n",
              "  </thead>\n",
              "  <tbody>\n",
              "    <tr>\n",
              "      <th>0</th>\n",
              "      <td>Spider-Man 3</td>\n",
              "      <td>Sony</td>\n",
              "      <td>61.0</td>\n",
              "      <td>54.0</td>\n",
              "      <td>Metamorphosis</td>\n",
              "      <td>Action</td>\n",
              "      <td>258.0</td>\n",
              "    </tr>\n",
              "    <tr>\n",
              "      <th>1</th>\n",
              "      <td>Shrek the Third</td>\n",
              "      <td>Paramount</td>\n",
              "      <td>42.0</td>\n",
              "      <td>57.0</td>\n",
              "      <td>Quest</td>\n",
              "      <td>Animation</td>\n",
              "      <td>160.0</td>\n",
              "    </tr>\n",
              "    <tr>\n",
              "      <th>2</th>\n",
              "      <td>Transformers</td>\n",
              "      <td>Paramount</td>\n",
              "      <td>57.0</td>\n",
              "      <td>89.0</td>\n",
              "      <td>Monster Force</td>\n",
              "      <td>Action</td>\n",
              "      <td>150.0</td>\n",
              "    </tr>\n",
              "    <tr>\n",
              "      <th>3</th>\n",
              "      <td>Pirates of the Caribbean: At World's End</td>\n",
              "      <td>Disney</td>\n",
              "      <td>45.0</td>\n",
              "      <td>74.0</td>\n",
              "      <td>Rescue</td>\n",
              "      <td>Action</td>\n",
              "      <td>300.0</td>\n",
              "    </tr>\n",
              "    <tr>\n",
              "      <th>4</th>\n",
              "      <td>Harry Potter and the Order of the Phoenix</td>\n",
              "      <td>Warner Bros</td>\n",
              "      <td>78.0</td>\n",
              "      <td>82.0</td>\n",
              "      <td>Quest</td>\n",
              "      <td>Adventure</td>\n",
              "      <td>150.0</td>\n",
              "    </tr>\n",
              "  </tbody>\n",
              "</table>\n",
              "</div>\n",
              "    <div class=\"colab-df-buttons\">\n",
              "\n",
              "  <div class=\"colab-df-container\">\n",
              "    <button class=\"colab-df-convert\" onclick=\"convertToInteractive('df-24664e36-dd28-4c91-a030-ae4cc728b5ff')\"\n",
              "            title=\"Convert this dataframe to an interactive table.\"\n",
              "            style=\"display:none;\">\n",
              "\n",
              "  <svg xmlns=\"http://www.w3.org/2000/svg\" height=\"24px\" viewBox=\"0 -960 960 960\">\n",
              "    <path d=\"M120-120v-720h720v720H120Zm60-500h600v-160H180v160Zm220 220h160v-160H400v160Zm0 220h160v-160H400v160ZM180-400h160v-160H180v160Zm440 0h160v-160H620v160ZM180-180h160v-160H180v160Zm440 0h160v-160H620v160Z\"/>\n",
              "  </svg>\n",
              "    </button>\n",
              "\n",
              "  <style>\n",
              "    .colab-df-container {\n",
              "      display:flex;\n",
              "      gap: 12px;\n",
              "    }\n",
              "\n",
              "    .colab-df-convert {\n",
              "      background-color: #E8F0FE;\n",
              "      border: none;\n",
              "      border-radius: 50%;\n",
              "      cursor: pointer;\n",
              "      display: none;\n",
              "      fill: #1967D2;\n",
              "      height: 32px;\n",
              "      padding: 0 0 0 0;\n",
              "      width: 32px;\n",
              "    }\n",
              "\n",
              "    .colab-df-convert:hover {\n",
              "      background-color: #E2EBFA;\n",
              "      box-shadow: 0px 1px 2px rgba(60, 64, 67, 0.3), 0px 1px 3px 1px rgba(60, 64, 67, 0.15);\n",
              "      fill: #174EA6;\n",
              "    }\n",
              "\n",
              "    .colab-df-buttons div {\n",
              "      margin-bottom: 4px;\n",
              "    }\n",
              "\n",
              "    [theme=dark] .colab-df-convert {\n",
              "      background-color: #3B4455;\n",
              "      fill: #D2E3FC;\n",
              "    }\n",
              "\n",
              "    [theme=dark] .colab-df-convert:hover {\n",
              "      background-color: #434B5C;\n",
              "      box-shadow: 0px 1px 3px 1px rgba(0, 0, 0, 0.15);\n",
              "      filter: drop-shadow(0px 1px 2px rgba(0, 0, 0, 0.3));\n",
              "      fill: #FFFFFF;\n",
              "    }\n",
              "  </style>\n",
              "\n",
              "    <script>\n",
              "      const buttonEl =\n",
              "        document.querySelector('#df-24664e36-dd28-4c91-a030-ae4cc728b5ff button.colab-df-convert');\n",
              "      buttonEl.style.display =\n",
              "        google.colab.kernel.accessAllowed ? 'block' : 'none';\n",
              "\n",
              "      async function convertToInteractive(key) {\n",
              "        const element = document.querySelector('#df-24664e36-dd28-4c91-a030-ae4cc728b5ff');\n",
              "        const dataTable =\n",
              "          await google.colab.kernel.invokeFunction('convertToInteractive',\n",
              "                                                    [key], {});\n",
              "        if (!dataTable) return;\n",
              "\n",
              "        const docLinkHtml = 'Like what you see? Visit the ' +\n",
              "          '<a target=\"_blank\" href=https://colab.research.google.com/notebooks/data_table.ipynb>data table notebook</a>'\n",
              "          + ' to learn more about interactive tables.';\n",
              "        element.innerHTML = '';\n",
              "        dataTable['output_type'] = 'display_data';\n",
              "        await google.colab.output.renderOutput(dataTable, element);\n",
              "        const docLink = document.createElement('div');\n",
              "        docLink.innerHTML = docLinkHtml;\n",
              "        element.appendChild(docLink);\n",
              "      }\n",
              "    </script>\n",
              "  </div>\n",
              "\n",
              "\n",
              "<div id=\"df-f0c9fc9d-0334-445b-b2ec-419790572b75\">\n",
              "  <button class=\"colab-df-quickchart\" onclick=\"quickchart('df-f0c9fc9d-0334-445b-b2ec-419790572b75')\"\n",
              "            title=\"Suggest charts\"\n",
              "            style=\"display:none;\">\n",
              "\n",
              "<svg xmlns=\"http://www.w3.org/2000/svg\" height=\"24px\"viewBox=\"0 0 24 24\"\n",
              "     width=\"24px\">\n",
              "    <g>\n",
              "        <path d=\"M19 3H5c-1.1 0-2 .9-2 2v14c0 1.1.9 2 2 2h14c1.1 0 2-.9 2-2V5c0-1.1-.9-2-2-2zM9 17H7v-7h2v7zm4 0h-2V7h2v10zm4 0h-2v-4h2v4z\"/>\n",
              "    </g>\n",
              "</svg>\n",
              "  </button>\n",
              "\n",
              "<style>\n",
              "  .colab-df-quickchart {\n",
              "      --bg-color: #E8F0FE;\n",
              "      --fill-color: #1967D2;\n",
              "      --hover-bg-color: #E2EBFA;\n",
              "      --hover-fill-color: #174EA6;\n",
              "      --disabled-fill-color: #AAA;\n",
              "      --disabled-bg-color: #DDD;\n",
              "  }\n",
              "\n",
              "  [theme=dark] .colab-df-quickchart {\n",
              "      --bg-color: #3B4455;\n",
              "      --fill-color: #D2E3FC;\n",
              "      --hover-bg-color: #434B5C;\n",
              "      --hover-fill-color: #FFFFFF;\n",
              "      --disabled-bg-color: #3B4455;\n",
              "      --disabled-fill-color: #666;\n",
              "  }\n",
              "\n",
              "  .colab-df-quickchart {\n",
              "    background-color: var(--bg-color);\n",
              "    border: none;\n",
              "    border-radius: 50%;\n",
              "    cursor: pointer;\n",
              "    display: none;\n",
              "    fill: var(--fill-color);\n",
              "    height: 32px;\n",
              "    padding: 0;\n",
              "    width: 32px;\n",
              "  }\n",
              "\n",
              "  .colab-df-quickchart:hover {\n",
              "    background-color: var(--hover-bg-color);\n",
              "    box-shadow: 0 1px 2px rgba(60, 64, 67, 0.3), 0 1px 3px 1px rgba(60, 64, 67, 0.15);\n",
              "    fill: var(--button-hover-fill-color);\n",
              "  }\n",
              "\n",
              "  .colab-df-quickchart-complete:disabled,\n",
              "  .colab-df-quickchart-complete:disabled:hover {\n",
              "    background-color: var(--disabled-bg-color);\n",
              "    fill: var(--disabled-fill-color);\n",
              "    box-shadow: none;\n",
              "  }\n",
              "\n",
              "  .colab-df-spinner {\n",
              "    border: 2px solid var(--fill-color);\n",
              "    border-color: transparent;\n",
              "    border-bottom-color: var(--fill-color);\n",
              "    animation:\n",
              "      spin 1s steps(1) infinite;\n",
              "  }\n",
              "\n",
              "  @keyframes spin {\n",
              "    0% {\n",
              "      border-color: transparent;\n",
              "      border-bottom-color: var(--fill-color);\n",
              "      border-left-color: var(--fill-color);\n",
              "    }\n",
              "    20% {\n",
              "      border-color: transparent;\n",
              "      border-left-color: var(--fill-color);\n",
              "      border-top-color: var(--fill-color);\n",
              "    }\n",
              "    30% {\n",
              "      border-color: transparent;\n",
              "      border-left-color: var(--fill-color);\n",
              "      border-top-color: var(--fill-color);\n",
              "      border-right-color: var(--fill-color);\n",
              "    }\n",
              "    40% {\n",
              "      border-color: transparent;\n",
              "      border-right-color: var(--fill-color);\n",
              "      border-top-color: var(--fill-color);\n",
              "    }\n",
              "    60% {\n",
              "      border-color: transparent;\n",
              "      border-right-color: var(--fill-color);\n",
              "    }\n",
              "    80% {\n",
              "      border-color: transparent;\n",
              "      border-right-color: var(--fill-color);\n",
              "      border-bottom-color: var(--fill-color);\n",
              "    }\n",
              "    90% {\n",
              "      border-color: transparent;\n",
              "      border-bottom-color: var(--fill-color);\n",
              "    }\n",
              "  }\n",
              "</style>\n",
              "\n",
              "  <script>\n",
              "    async function quickchart(key) {\n",
              "      const quickchartButtonEl =\n",
              "        document.querySelector('#' + key + ' button');\n",
              "      quickchartButtonEl.disabled = true;  // To prevent multiple clicks.\n",
              "      quickchartButtonEl.classList.add('colab-df-spinner');\n",
              "      try {\n",
              "        const charts = await google.colab.kernel.invokeFunction(\n",
              "            'suggestCharts', [key], {});\n",
              "      } catch (error) {\n",
              "        console.error('Error during call to suggestCharts:', error);\n",
              "      }\n",
              "      quickchartButtonEl.classList.remove('colab-df-spinner');\n",
              "      quickchartButtonEl.classList.add('colab-df-quickchart-complete');\n",
              "    }\n",
              "    (() => {\n",
              "      let quickchartButtonEl =\n",
              "        document.querySelector('#df-f0c9fc9d-0334-445b-b2ec-419790572b75 button');\n",
              "      quickchartButtonEl.style.display =\n",
              "        google.colab.kernel.accessAllowed ? 'block' : 'none';\n",
              "    })();\n",
              "  </script>\n",
              "</div>\n",
              "\n",
              "    </div>\n",
              "  </div>\n"
            ],
            "application/vnd.google.colaboratory.intrinsic+json": {
              "type": "dataframe",
              "variable_name": "df",
              "summary": "{\n  \"name\": \"df\",\n  \"rows\": 969,\n  \"fields\": [\n    {\n      \"column\": \"Movie\",\n      \"properties\": {\n        \"dtype\": \"string\",\n        \"num_unique_values\": 968,\n        \"samples\": [\n          \"Moneyball\",\n          \"A Christmas Carol\",\n          \"Clash of the Titans\"\n        ],\n        \"semantic_type\": \"\",\n        \"description\": \"\"\n      }\n    },\n    {\n      \"column\": \"LeadStudio\",\n      \"properties\": {\n        \"dtype\": \"category\",\n        \"num_unique_values\": 60,\n        \"samples\": [\n          \"Sony\",\n          \"Fox\",\n          \"Entertainment One\"\n        ],\n        \"semantic_type\": \"\",\n        \"description\": \"\"\n      }\n    },\n    {\n      \"column\": \"RottenTomatoes\",\n      \"properties\": {\n        \"dtype\": \"number\",\n        \"std\": 26.03238244956378,\n        \"min\": 0.0,\n        \"max\": 99.0,\n        \"num_unique_values\": 101,\n        \"samples\": [\n          0.0,\n          54.0,\n          64.0\n        ],\n        \"semantic_type\": \"\",\n        \"description\": \"\"\n      }\n    },\n    {\n      \"column\": \"AudienceScore\",\n      \"properties\": {\n        \"dtype\": \"number\",\n        \"std\": 16.061249454186346,\n        \"min\": 19.0,\n        \"max\": 96.0,\n        \"num_unique_values\": 74,\n        \"samples\": [\n          82.0,\n          60.0,\n          66.0\n        ],\n        \"semantic_type\": \"\",\n        \"description\": \"\"\n      }\n    },\n    {\n      \"column\": \"Story\",\n      \"properties\": {\n        \"dtype\": \"category\",\n        \"num_unique_values\": 43,\n        \"samples\": [\n          \"transformation\",\n          \"rescue\",\n          \"fish out of water\"\n        ],\n        \"semantic_type\": \"\",\n        \"description\": \"\"\n      }\n    },\n    {\n      \"column\": \"Genre\",\n      \"properties\": {\n        \"dtype\": \"category\",\n        \"num_unique_values\": 15,\n        \"samples\": [\n          \"Romance\",\n          \"Documentary\",\n          \"Action\"\n        ],\n        \"semantic_type\": \"\",\n        \"description\": \"\"\n      }\n    },\n    {\n      \"column\": \"Budget\",\n      \"properties\": {\n        \"dtype\": \"number\",\n        \"std\": 51.699511911193625,\n        \"min\": 0.0,\n        \"max\": 300.0,\n        \"num_unique_values\": 152,\n        \"samples\": [\n          13.0,\n          115.0,\n          27.5\n        ],\n        \"semantic_type\": \"\",\n        \"description\": \"\"\n      }\n    }\n  ]\n}"
            }
          },
          "metadata": {},
          "execution_count": 12
        }
      ]
    },
    {
      "cell_type": "code",
      "source": [
        "# Recheck the shape (after dropping unutilized columns and duplicates)\n",
        "df.shape"
      ],
      "metadata": {
        "colab": {
          "base_uri": "https://localhost:8080/"
        },
        "id": "vHHM9KTuYuuU",
        "outputId": "40f75815-fec3-47a2-9516-f3bead38d027"
      },
      "execution_count": null,
      "outputs": [
        {
          "output_type": "execute_result",
          "data": {
            "text/plain": [
              "(969, 7)"
            ]
          },
          "metadata": {},
          "execution_count": 13
        }
      ]
    },
    {
      "cell_type": "markdown",
      "source": [
        "**Note:** The new rows and columns shown above has been updated"
      ],
      "metadata": {
        "id": "xy_KNzWRcKks"
      }
    },
    {
      "cell_type": "markdown",
      "source": [
        "### **Scaling numeric values**"
      ],
      "metadata": {
        "id": "I2vi8yr8w16d"
      }
    },
    {
      "cell_type": "code",
      "source": [
        "\"\"\"\n",
        "Normalize the scaling of number-based columns so they're on the same level (no higher/lower or extreme)\n",
        "This helps models treat all values fairly, no matter their original range.\n",
        "\"\"\"\n",
        "\n",
        "#Normalize numerical features\n",
        "scaler = StandardScaler()\n",
        "\n",
        "#Specified columns to normalize (in case needed; ranging values - equal impact)\n",
        "numerical_features = ['RottenTomatoes','Budget']\n",
        "df[numerical_features] = scaler.fit_transform(df[numerical_features])"
      ],
      "metadata": {
        "id": "sBIIE-V8edvd"
      },
      "execution_count": null,
      "outputs": []
    },
    {
      "cell_type": "markdown",
      "source": [
        "Normalizing numerical features helps ensure that different values, like RottenTomatoes and Budget, are on the same scale. (just so that these fields do not exceed a range, upscaling different values)\n",
        "\n",
        "By scaling these features to a similar range, we make sure each one has an equal impact on the model we are implementing (movie recommendation system), leading to more accurate recommendations."
      ],
      "metadata": {
        "id": "TAGWGqnhjVrl"
      }
    },
    {
      "cell_type": "markdown",
      "source": [
        "### **Combining the utilized features**"
      ],
      "metadata": {
        "id": "J5wc7jBPw489"
      }
    },
    {
      "cell_type": "code",
      "source": [
        "# Ensure proper combination of features for recommendation\n",
        "df['combined_features'] = df['Genre'] + ' ' + df['Story'] + ' ' + df['LeadStudio'] + ' ' + df['RottenTomatoes'].astype(str)"
      ],
      "metadata": {
        "id": "lFo7ry9hU04_"
      },
      "execution_count": null,
      "outputs": []
    },
    {
      "cell_type": "markdown",
      "source": [
        "**Serveral factors play in role (determine movie recommendation to user)**\n",
        "\n",
        "**Genre:**\n",
        "\n",
        "Captures the type of movie genre. Helps match movies of similar genres.\n",
        "\n",
        "**Story:**\n",
        "\n",
        "Allows the model to identify the type of movie\n",
        "\n",
        "**LeadStudio:**\n",
        "\n",
        "Provids information on production studio\n",
        "\n",
        "**RottenTomatoes (scaled):**\n",
        "\n",
        "Allows the system to recommend movies with similar audience or rating/critics."
      ],
      "metadata": {
        "id": "jGts8yAeZLWn"
      }
    },
    {
      "cell_type": "markdown",
      "source": [
        "**Note:**\n",
        "\n",
        "The year is not included for this factor of determining whether the movie to relevant to the user history/recently watched movie.\n",
        "\n",
        "Therefore it gives a wider span of movies to are relevant to the user's preference for recommendation."
      ],
      "metadata": {
        "id": "pG41gdRvZsOk"
      }
    },
    {
      "cell_type": "markdown",
      "source": [
        "#### **TF-IDF Extraction**"
      ],
      "metadata": {
        "id": "BqXqjNZxc_n5"
      }
    },
    {
      "cell_type": "code",
      "source": [
        "\"\"\"\n",
        "Creates a TF-IDF vectorizer to convert text data into numerical form, focusing on frequent words and word pairs\n",
        "\"\"\"\n",
        "\n",
        "#Create a TF-IDF Vectorizer with specified parameters for better extraction\n",
        "tfidf_vectorizer = TfidfVectorizer(stop_words='english', ngram_range=(1, 2), min_df=5)\n",
        "\n",
        "#Fit and transform the combined features into a TF-IDF matrix\n",
        "tfidf_matrix = tfidf_vectorizer.fit_transform(df['combined_features'])\n",
        "print(f\"TF-IDF Matrix Shape: {tfidf_matrix.shape}\")"
      ],
      "metadata": {
        "colab": {
          "base_uri": "https://localhost:8080/"
        },
        "id": "BrWbwz9LU2-6",
        "outputId": "83a1b36a-cbdc-4aa2-f198-88624d773ff5"
      },
      "execution_count": null,
      "outputs": [
        {
          "output_type": "stream",
          "name": "stdout",
          "text": [
            "TF-IDF Matrix Shape: (969, 271)\n"
          ]
        }
      ]
    },
    {
      "cell_type": "markdown",
      "source": [
        "Turning movie details, like the genre, story, etc. into numbers (extract meaningful features through text). Using TF-IDF (Term Frequency-Inverse Document Frequency) to identify important words and phrases, thus ignoring stopwords. By looking at both single words and word pairs (ngram_range=(1,2)), it creates a numerical representation for each movie based on its description, (min_df=5) to ensure terms that appear in at least 5 movies are considered.\n",
        "\n",
        "This helps/acknowledge which movies are similar to each other, making defined recommendations."
      ],
      "metadata": {
        "id": "ROKRgJPwndTB"
      }
    },
    {
      "cell_type": "markdown",
      "source": [
        "#### **Computing the Cosine Similarity**"
      ],
      "metadata": {
        "id": "pIS7iA6_1qjj"
      }
    },
    {
      "cell_type": "code",
      "source": [
        "\"\"\"\n",
        "Calculates the similarity between all movies based on their combined features using cosine similarity.\n",
        "Later converts the similarity values into a DataFrame for easy viewing and access (viewable matrix (optional))\n",
        "\"\"\"\n",
        "\n",
        "#Calculate cosine similarity between all movies based on their combined features\n",
        "cosine_sim = cosine_similarity(tfidf_matrix, tfidf_matrix)\n",
        "\n",
        "#Convert the cosine similarity matrix into a df for easy access\n",
        "cosine_sim_df = pd.DataFrame(cosine_sim, index=df['Movie'], columns=df['Movie'])"
      ],
      "metadata": {
        "id": "YqJ9PXzRU4m9"
      },
      "execution_count": null,
      "outputs": []
    },
    {
      "cell_type": "markdown",
      "source": [
        "In regards to the cosine similarity, it calculates how similar each movie is to every other movie using the combined features like genre and story. It does this by comparing the movies based on their numerical representations, with cosine similarity measuring how closely related the two movies are.\n",
        "\n",
        "A higher similarity score means the movies are more alike. This makes it easy to see which movies are most similar, helping to recommend movies that are alike based on their descriptions."
      ],
      "metadata": {
        "id": "Zgb7aoO2pv3G"
      }
    },
    {
      "cell_type": "markdown",
      "source": [
        "#### **Defining Recommendation Function**"
      ],
      "metadata": {
        "id": "Ptusk-L78-qm"
      }
    },
    {
      "cell_type": "code",
      "source": [
        "\"\"\"\n",
        "Defined a function to recommend similar movies based on cosine similarity scores.\n",
        "It checks if the movie is in the dataset, then finds and returns the top N most similar movies.\n",
        "\"\"\"\n",
        "\n",
        "def recommend_movies(movie_title, cosine_sim_df, top_n=5):\n",
        "\n",
        "    if movie_title not in cosine_sim_df.index:\n",
        "        raise ValueError(f\"Movie title '{movie_title}' not found in the dataset.\")\n",
        "    similar_scores = cosine_sim_df[movie_title]\n",
        "    similar_movies = similar_scores.sort_values(ascending=False)\n",
        "    similar_movies = similar_movies.drop(movie_title)\n",
        "\n",
        "    #Returns the top_n most similar movies\n",
        "    return similar_movies.head(top_n)"
      ],
      "metadata": {
        "id": "xL_RAlgqU6ej"
      },
      "execution_count": null,
      "outputs": []
    },
    {
      "cell_type": "markdown",
      "source": [
        "The defined function; recommends movies that are similar to a prompt/user-based movie are based on combined features (genre & story).\n",
        "\n",
        "First, it checks if the movie title is in the dataset to be specified. Then, checks the similarity scores of that movie compared to all others, sorting them from most similar to least similar.\n",
        "\n",
        "The function excludes the original movie from the list and returns the top-recommended movies based on their similarity scores.\n",
        "\n",
        "This helps users find movies that are closely related to the one they like or are interested in."
      ],
      "metadata": {
        "id": "qKzWLd1Rp-eN"
      }
    },
    {
      "cell_type": "markdown",
      "source": [
        "#### **Testing the recommender system using content-based filtering**"
      ],
      "metadata": {
        "id": "Ovm4BRj0lXsr"
      }
    },
    {
      "cell_type": "markdown",
      "source": [
        "**Lets say for this testing its based on content similarity to the user’s past interactions to the input of the movie_example column**"
      ],
      "metadata": {
        "id": "wIFLYT1FlM0l"
      }
    },
    {
      "cell_type": "code",
      "source": [
        "# Example movie name to test; recommendation system\n",
        "movie_title = \"Harry Potter and the Order of the Phoenix\"\n",
        "# To provide the top 5 movies via the cosine similarity score\n",
        "recommended_movies = recommend_movies(movie_title, cosine_sim_df)\n",
        "# Provide top 5 movie recommendation\n",
        "recommended_movies"
      ],
      "metadata": {
        "colab": {
          "base_uri": "https://localhost:8080/",
          "height": 272
        },
        "id": "9gXH38jWU8s8",
        "outputId": "0e1a2683-ac07-4df6-bf91-bf2561696f92"
      },
      "execution_count": null,
      "outputs": [
        {
          "output_type": "execute_result",
          "data": {
            "text/plain": [
              "Movie\n",
              "Harry Potter and the Half-Blood Prince         0.739794\n",
              "Harry Potter and the Deathly Hallows Part 1    0.735445\n",
              "Fool's Gold                                    0.730149\n",
              "Inkheart                                       0.730149\n",
              "The Informant!                                 0.579787\n",
              "Name: Harry Potter and the Order of the Phoenix, dtype: float64"
            ],
            "text/html": [
              "<div>\n",
              "<style scoped>\n",
              "    .dataframe tbody tr th:only-of-type {\n",
              "        vertical-align: middle;\n",
              "    }\n",
              "\n",
              "    .dataframe tbody tr th {\n",
              "        vertical-align: top;\n",
              "    }\n",
              "\n",
              "    .dataframe thead th {\n",
              "        text-align: right;\n",
              "    }\n",
              "</style>\n",
              "<table border=\"1\" class=\"dataframe\">\n",
              "  <thead>\n",
              "    <tr style=\"text-align: right;\">\n",
              "      <th></th>\n",
              "      <th>Harry Potter and the Order of the Phoenix</th>\n",
              "    </tr>\n",
              "    <tr>\n",
              "      <th>Movie</th>\n",
              "      <th></th>\n",
              "    </tr>\n",
              "  </thead>\n",
              "  <tbody>\n",
              "    <tr>\n",
              "      <th>Harry Potter and the Half-Blood Prince</th>\n",
              "      <td>0.739794</td>\n",
              "    </tr>\n",
              "    <tr>\n",
              "      <th>Harry Potter and the Deathly Hallows Part 1</th>\n",
              "      <td>0.735445</td>\n",
              "    </tr>\n",
              "    <tr>\n",
              "      <th>Fool's Gold</th>\n",
              "      <td>0.730149</td>\n",
              "    </tr>\n",
              "    <tr>\n",
              "      <th>Inkheart</th>\n",
              "      <td>0.730149</td>\n",
              "    </tr>\n",
              "    <tr>\n",
              "      <th>The Informant!</th>\n",
              "      <td>0.579787</td>\n",
              "    </tr>\n",
              "  </tbody>\n",
              "</table>\n",
              "</div><br><label><b>dtype:</b> float64</label>"
            ]
          },
          "metadata": {},
          "execution_count": 27
        }
      ]
    },
    {
      "cell_type": "code",
      "source": [
        "# Another movie to test\n",
        "movie_title = \"Fool's Gold\"\n",
        "# To provide the top 5 movies via the cosine similarity score\n",
        "recommended_movies = recommend_movies(movie_title, cosine_sim_df, top_n=5)\n",
        "# Provide top 5 movie recommendation list\n",
        "recommended_movies"
      ],
      "metadata": {
        "colab": {
          "base_uri": "https://localhost:8080/",
          "height": 272
        },
        "id": "SbUToLUIg6MO",
        "outputId": "f87759d8-b288-4b70-a3c0-ecfbfe3e1c3f"
      },
      "execution_count": null,
      "outputs": [
        {
          "output_type": "execute_result",
          "data": {
            "text/plain": [
              "Movie\n",
              "Harry Potter and the Half-Blood Prince         0.803709\n",
              "Harry Potter and the Deathly Hallows Part 1    0.798985\n",
              "Inkheart                                       0.793231\n",
              "Harry Potter and the Order of the Phoenix      0.730149\n",
              "I Am Legend                                    0.532426\n",
              "Name: Fool's Gold, dtype: float64"
            ],
            "text/html": [
              "<div>\n",
              "<style scoped>\n",
              "    .dataframe tbody tr th:only-of-type {\n",
              "        vertical-align: middle;\n",
              "    }\n",
              "\n",
              "    .dataframe tbody tr th {\n",
              "        vertical-align: top;\n",
              "    }\n",
              "\n",
              "    .dataframe thead th {\n",
              "        text-align: right;\n",
              "    }\n",
              "</style>\n",
              "<table border=\"1\" class=\"dataframe\">\n",
              "  <thead>\n",
              "    <tr style=\"text-align: right;\">\n",
              "      <th></th>\n",
              "      <th>Fool's Gold</th>\n",
              "    </tr>\n",
              "    <tr>\n",
              "      <th>Movie</th>\n",
              "      <th></th>\n",
              "    </tr>\n",
              "  </thead>\n",
              "  <tbody>\n",
              "    <tr>\n",
              "      <th>Harry Potter and the Half-Blood Prince</th>\n",
              "      <td>0.803709</td>\n",
              "    </tr>\n",
              "    <tr>\n",
              "      <th>Harry Potter and the Deathly Hallows Part 1</th>\n",
              "      <td>0.798985</td>\n",
              "    </tr>\n",
              "    <tr>\n",
              "      <th>Inkheart</th>\n",
              "      <td>0.793231</td>\n",
              "    </tr>\n",
              "    <tr>\n",
              "      <th>Harry Potter and the Order of the Phoenix</th>\n",
              "      <td>0.730149</td>\n",
              "    </tr>\n",
              "    <tr>\n",
              "      <th>I Am Legend</th>\n",
              "      <td>0.532426</td>\n",
              "    </tr>\n",
              "  </tbody>\n",
              "</table>\n",
              "</div><br><label><b>dtype:</b> float64</label>"
            ]
          },
          "metadata": {},
          "execution_count": 25
        }
      ]
    },
    {
      "cell_type": "markdown",
      "source": [
        "**Summary of movie recommendation testing:**\n",
        "\n",
        "As a result of testing of movie title recommendations; to be determined by its top 5 most similar movies, the output provides a similarity score specifying how each movie matches the output movie (with its score alongside). The similarity score reflects the resemblance based on features such as genre, story, lead studio, Rotten Tomatoes score, and year of release.\n",
        "\n",
        "The recommendation system ranks movies from highest to lowest similarity. As the list of the movies provided through similarity, the scores decrease, signifying that the recommended movies share fewer attributes than the initial movie. This behavior highlights the system's ability to prioritize movies most relevant to the user's past selections while still identifying potential similarities even as the scores decline."
      ],
      "metadata": {
        "id": "jjP9WcBRVfeS"
      }
    },
    {
      "cell_type": "markdown",
      "source": [
        "**Revisit the list of movies; therefore to proceeed to the next following steps**"
      ],
      "metadata": {
        "id": "7brFNrU7ROAf"
      }
    },
    {
      "cell_type": "code",
      "source": [
        "# A pivot table based on movie and AudienceScore\n",
        "movie_lists = pd.pivot_table(df,values=['AudienceScore'],index='Movie')\n",
        "\n",
        "# Ordered/Sorted based on audiencescore given for each movie\n",
        "sorted_movie_lists = movie_lists.sort_values(by='AudienceScore', ascending=False)\n",
        "\n",
        "# By converting the output to an interactive table (top right); a pivot table will be shown of the list of movies (sorted)\n",
        "sorted_movie_lists"
      ],
      "metadata": {
        "colab": {
          "base_uri": "https://localhost:8080/",
          "height": 455
        },
        "id": "5W6s14eIMJII",
        "outputId": "65f507f1-e0c0-4241-b782-238eb2d84fa7"
      },
      "execution_count": null,
      "outputs": [
        {
          "output_type": "execute_result",
          "data": {
            "text/plain": [
              "                               AudienceScore\n",
              "Movie                                       \n",
              "The Dark Knight                         96.0\n",
              "Warrior                                 93.0\n",
              "The King's Speech                       93.0\n",
              "Inception                               93.0\n",
              "50/50                                   93.0\n",
              "...                                      ...\n",
              "Jonah Hex                               24.0\n",
              "The Devil Inside                        22.0\n",
              "The Haunting of Molly Hartley           22.0\n",
              "Stone                                   20.0\n",
              "Skyline                                 19.0\n",
              "\n",
              "[968 rows x 1 columns]"
            ],
            "text/html": [
              "\n",
              "  <div id=\"df-bbe97038-c8e5-4713-be3c-b6744d42caeb\" class=\"colab-df-container\">\n",
              "    <div>\n",
              "<style scoped>\n",
              "    .dataframe tbody tr th:only-of-type {\n",
              "        vertical-align: middle;\n",
              "    }\n",
              "\n",
              "    .dataframe tbody tr th {\n",
              "        vertical-align: top;\n",
              "    }\n",
              "\n",
              "    .dataframe thead th {\n",
              "        text-align: right;\n",
              "    }\n",
              "</style>\n",
              "<table border=\"1\" class=\"dataframe\">\n",
              "  <thead>\n",
              "    <tr style=\"text-align: right;\">\n",
              "      <th></th>\n",
              "      <th>AudienceScore</th>\n",
              "    </tr>\n",
              "    <tr>\n",
              "      <th>Movie</th>\n",
              "      <th></th>\n",
              "    </tr>\n",
              "  </thead>\n",
              "  <tbody>\n",
              "    <tr>\n",
              "      <th>The Dark Knight</th>\n",
              "      <td>96.0</td>\n",
              "    </tr>\n",
              "    <tr>\n",
              "      <th>Warrior</th>\n",
              "      <td>93.0</td>\n",
              "    </tr>\n",
              "    <tr>\n",
              "      <th>The King's Speech</th>\n",
              "      <td>93.0</td>\n",
              "    </tr>\n",
              "    <tr>\n",
              "      <th>Inception</th>\n",
              "      <td>93.0</td>\n",
              "    </tr>\n",
              "    <tr>\n",
              "      <th>50/50</th>\n",
              "      <td>93.0</td>\n",
              "    </tr>\n",
              "    <tr>\n",
              "      <th>...</th>\n",
              "      <td>...</td>\n",
              "    </tr>\n",
              "    <tr>\n",
              "      <th>Jonah Hex</th>\n",
              "      <td>24.0</td>\n",
              "    </tr>\n",
              "    <tr>\n",
              "      <th>The Devil Inside</th>\n",
              "      <td>22.0</td>\n",
              "    </tr>\n",
              "    <tr>\n",
              "      <th>The Haunting of Molly Hartley</th>\n",
              "      <td>22.0</td>\n",
              "    </tr>\n",
              "    <tr>\n",
              "      <th>Stone</th>\n",
              "      <td>20.0</td>\n",
              "    </tr>\n",
              "    <tr>\n",
              "      <th>Skyline</th>\n",
              "      <td>19.0</td>\n",
              "    </tr>\n",
              "  </tbody>\n",
              "</table>\n",
              "<p>968 rows × 1 columns</p>\n",
              "</div>\n",
              "    <div class=\"colab-df-buttons\">\n",
              "\n",
              "  <div class=\"colab-df-container\">\n",
              "    <button class=\"colab-df-convert\" onclick=\"convertToInteractive('df-bbe97038-c8e5-4713-be3c-b6744d42caeb')\"\n",
              "            title=\"Convert this dataframe to an interactive table.\"\n",
              "            style=\"display:none;\">\n",
              "\n",
              "  <svg xmlns=\"http://www.w3.org/2000/svg\" height=\"24px\" viewBox=\"0 -960 960 960\">\n",
              "    <path d=\"M120-120v-720h720v720H120Zm60-500h600v-160H180v160Zm220 220h160v-160H400v160Zm0 220h160v-160H400v160ZM180-400h160v-160H180v160Zm440 0h160v-160H620v160ZM180-180h160v-160H180v160Zm440 0h160v-160H620v160Z\"/>\n",
              "  </svg>\n",
              "    </button>\n",
              "\n",
              "  <style>\n",
              "    .colab-df-container {\n",
              "      display:flex;\n",
              "      gap: 12px;\n",
              "    }\n",
              "\n",
              "    .colab-df-convert {\n",
              "      background-color: #E8F0FE;\n",
              "      border: none;\n",
              "      border-radius: 50%;\n",
              "      cursor: pointer;\n",
              "      display: none;\n",
              "      fill: #1967D2;\n",
              "      height: 32px;\n",
              "      padding: 0 0 0 0;\n",
              "      width: 32px;\n",
              "    }\n",
              "\n",
              "    .colab-df-convert:hover {\n",
              "      background-color: #E2EBFA;\n",
              "      box-shadow: 0px 1px 2px rgba(60, 64, 67, 0.3), 0px 1px 3px 1px rgba(60, 64, 67, 0.15);\n",
              "      fill: #174EA6;\n",
              "    }\n",
              "\n",
              "    .colab-df-buttons div {\n",
              "      margin-bottom: 4px;\n",
              "    }\n",
              "\n",
              "    [theme=dark] .colab-df-convert {\n",
              "      background-color: #3B4455;\n",
              "      fill: #D2E3FC;\n",
              "    }\n",
              "\n",
              "    [theme=dark] .colab-df-convert:hover {\n",
              "      background-color: #434B5C;\n",
              "      box-shadow: 0px 1px 3px 1px rgba(0, 0, 0, 0.15);\n",
              "      filter: drop-shadow(0px 1px 2px rgba(0, 0, 0, 0.3));\n",
              "      fill: #FFFFFF;\n",
              "    }\n",
              "  </style>\n",
              "\n",
              "    <script>\n",
              "      const buttonEl =\n",
              "        document.querySelector('#df-bbe97038-c8e5-4713-be3c-b6744d42caeb button.colab-df-convert');\n",
              "      buttonEl.style.display =\n",
              "        google.colab.kernel.accessAllowed ? 'block' : 'none';\n",
              "\n",
              "      async function convertToInteractive(key) {\n",
              "        const element = document.querySelector('#df-bbe97038-c8e5-4713-be3c-b6744d42caeb');\n",
              "        const dataTable =\n",
              "          await google.colab.kernel.invokeFunction('convertToInteractive',\n",
              "                                                    [key], {});\n",
              "        if (!dataTable) return;\n",
              "\n",
              "        const docLinkHtml = 'Like what you see? Visit the ' +\n",
              "          '<a target=\"_blank\" href=https://colab.research.google.com/notebooks/data_table.ipynb>data table notebook</a>'\n",
              "          + ' to learn more about interactive tables.';\n",
              "        element.innerHTML = '';\n",
              "        dataTable['output_type'] = 'display_data';\n",
              "        await google.colab.output.renderOutput(dataTable, element);\n",
              "        const docLink = document.createElement('div');\n",
              "        docLink.innerHTML = docLinkHtml;\n",
              "        element.appendChild(docLink);\n",
              "      }\n",
              "    </script>\n",
              "  </div>\n",
              "\n",
              "\n",
              "<div id=\"df-6f07aa7d-07ea-4d6e-9ff0-ccc0e4629336\">\n",
              "  <button class=\"colab-df-quickchart\" onclick=\"quickchart('df-6f07aa7d-07ea-4d6e-9ff0-ccc0e4629336')\"\n",
              "            title=\"Suggest charts\"\n",
              "            style=\"display:none;\">\n",
              "\n",
              "<svg xmlns=\"http://www.w3.org/2000/svg\" height=\"24px\"viewBox=\"0 0 24 24\"\n",
              "     width=\"24px\">\n",
              "    <g>\n",
              "        <path d=\"M19 3H5c-1.1 0-2 .9-2 2v14c0 1.1.9 2 2 2h14c1.1 0 2-.9 2-2V5c0-1.1-.9-2-2-2zM9 17H7v-7h2v7zm4 0h-2V7h2v10zm4 0h-2v-4h2v4z\"/>\n",
              "    </g>\n",
              "</svg>\n",
              "  </button>\n",
              "\n",
              "<style>\n",
              "  .colab-df-quickchart {\n",
              "      --bg-color: #E8F0FE;\n",
              "      --fill-color: #1967D2;\n",
              "      --hover-bg-color: #E2EBFA;\n",
              "      --hover-fill-color: #174EA6;\n",
              "      --disabled-fill-color: #AAA;\n",
              "      --disabled-bg-color: #DDD;\n",
              "  }\n",
              "\n",
              "  [theme=dark] .colab-df-quickchart {\n",
              "      --bg-color: #3B4455;\n",
              "      --fill-color: #D2E3FC;\n",
              "      --hover-bg-color: #434B5C;\n",
              "      --hover-fill-color: #FFFFFF;\n",
              "      --disabled-bg-color: #3B4455;\n",
              "      --disabled-fill-color: #666;\n",
              "  }\n",
              "\n",
              "  .colab-df-quickchart {\n",
              "    background-color: var(--bg-color);\n",
              "    border: none;\n",
              "    border-radius: 50%;\n",
              "    cursor: pointer;\n",
              "    display: none;\n",
              "    fill: var(--fill-color);\n",
              "    height: 32px;\n",
              "    padding: 0;\n",
              "    width: 32px;\n",
              "  }\n",
              "\n",
              "  .colab-df-quickchart:hover {\n",
              "    background-color: var(--hover-bg-color);\n",
              "    box-shadow: 0 1px 2px rgba(60, 64, 67, 0.3), 0 1px 3px 1px rgba(60, 64, 67, 0.15);\n",
              "    fill: var(--button-hover-fill-color);\n",
              "  }\n",
              "\n",
              "  .colab-df-quickchart-complete:disabled,\n",
              "  .colab-df-quickchart-complete:disabled:hover {\n",
              "    background-color: var(--disabled-bg-color);\n",
              "    fill: var(--disabled-fill-color);\n",
              "    box-shadow: none;\n",
              "  }\n",
              "\n",
              "  .colab-df-spinner {\n",
              "    border: 2px solid var(--fill-color);\n",
              "    border-color: transparent;\n",
              "    border-bottom-color: var(--fill-color);\n",
              "    animation:\n",
              "      spin 1s steps(1) infinite;\n",
              "  }\n",
              "\n",
              "  @keyframes spin {\n",
              "    0% {\n",
              "      border-color: transparent;\n",
              "      border-bottom-color: var(--fill-color);\n",
              "      border-left-color: var(--fill-color);\n",
              "    }\n",
              "    20% {\n",
              "      border-color: transparent;\n",
              "      border-left-color: var(--fill-color);\n",
              "      border-top-color: var(--fill-color);\n",
              "    }\n",
              "    30% {\n",
              "      border-color: transparent;\n",
              "      border-left-color: var(--fill-color);\n",
              "      border-top-color: var(--fill-color);\n",
              "      border-right-color: var(--fill-color);\n",
              "    }\n",
              "    40% {\n",
              "      border-color: transparent;\n",
              "      border-right-color: var(--fill-color);\n",
              "      border-top-color: var(--fill-color);\n",
              "    }\n",
              "    60% {\n",
              "      border-color: transparent;\n",
              "      border-right-color: var(--fill-color);\n",
              "    }\n",
              "    80% {\n",
              "      border-color: transparent;\n",
              "      border-right-color: var(--fill-color);\n",
              "      border-bottom-color: var(--fill-color);\n",
              "    }\n",
              "    90% {\n",
              "      border-color: transparent;\n",
              "      border-bottom-color: var(--fill-color);\n",
              "    }\n",
              "  }\n",
              "</style>\n",
              "\n",
              "  <script>\n",
              "    async function quickchart(key) {\n",
              "      const quickchartButtonEl =\n",
              "        document.querySelector('#' + key + ' button');\n",
              "      quickchartButtonEl.disabled = true;  // To prevent multiple clicks.\n",
              "      quickchartButtonEl.classList.add('colab-df-spinner');\n",
              "      try {\n",
              "        const charts = await google.colab.kernel.invokeFunction(\n",
              "            'suggestCharts', [key], {});\n",
              "      } catch (error) {\n",
              "        console.error('Error during call to suggestCharts:', error);\n",
              "      }\n",
              "      quickchartButtonEl.classList.remove('colab-df-spinner');\n",
              "      quickchartButtonEl.classList.add('colab-df-quickchart-complete');\n",
              "    }\n",
              "    (() => {\n",
              "      let quickchartButtonEl =\n",
              "        document.querySelector('#df-6f07aa7d-07ea-4d6e-9ff0-ccc0e4629336 button');\n",
              "      quickchartButtonEl.style.display =\n",
              "        google.colab.kernel.accessAllowed ? 'block' : 'none';\n",
              "    })();\n",
              "  </script>\n",
              "</div>\n",
              "\n",
              "  <div id=\"id_e12a703e-671d-4139-842b-19415c0686be\">\n",
              "    <style>\n",
              "      .colab-df-generate {\n",
              "        background-color: #E8F0FE;\n",
              "        border: none;\n",
              "        border-radius: 50%;\n",
              "        cursor: pointer;\n",
              "        display: none;\n",
              "        fill: #1967D2;\n",
              "        height: 32px;\n",
              "        padding: 0 0 0 0;\n",
              "        width: 32px;\n",
              "      }\n",
              "\n",
              "      .colab-df-generate:hover {\n",
              "        background-color: #E2EBFA;\n",
              "        box-shadow: 0px 1px 2px rgba(60, 64, 67, 0.3), 0px 1px 3px 1px rgba(60, 64, 67, 0.15);\n",
              "        fill: #174EA6;\n",
              "      }\n",
              "\n",
              "      [theme=dark] .colab-df-generate {\n",
              "        background-color: #3B4455;\n",
              "        fill: #D2E3FC;\n",
              "      }\n",
              "\n",
              "      [theme=dark] .colab-df-generate:hover {\n",
              "        background-color: #434B5C;\n",
              "        box-shadow: 0px 1px 3px 1px rgba(0, 0, 0, 0.15);\n",
              "        filter: drop-shadow(0px 1px 2px rgba(0, 0, 0, 0.3));\n",
              "        fill: #FFFFFF;\n",
              "      }\n",
              "    </style>\n",
              "    <button class=\"colab-df-generate\" onclick=\"generateWithVariable('sorted_movie_lists')\"\n",
              "            title=\"Generate code using this dataframe.\"\n",
              "            style=\"display:none;\">\n",
              "\n",
              "  <svg xmlns=\"http://www.w3.org/2000/svg\" height=\"24px\"viewBox=\"0 0 24 24\"\n",
              "       width=\"24px\">\n",
              "    <path d=\"M7,19H8.4L18.45,9,17,7.55,7,17.6ZM5,21V16.75L18.45,3.32a2,2,0,0,1,2.83,0l1.4,1.43a1.91,1.91,0,0,1,.58,1.4,1.91,1.91,0,0,1-.58,1.4L9.25,21ZM18.45,9,17,7.55Zm-12,3A5.31,5.31,0,0,0,4.9,8.1,5.31,5.31,0,0,0,1,6.5,5.31,5.31,0,0,0,4.9,4.9,5.31,5.31,0,0,0,6.5,1,5.31,5.31,0,0,0,8.1,4.9,5.31,5.31,0,0,0,12,6.5,5.46,5.46,0,0,0,6.5,12Z\"/>\n",
              "  </svg>\n",
              "    </button>\n",
              "    <script>\n",
              "      (() => {\n",
              "      const buttonEl =\n",
              "        document.querySelector('#id_e12a703e-671d-4139-842b-19415c0686be button.colab-df-generate');\n",
              "      buttonEl.style.display =\n",
              "        google.colab.kernel.accessAllowed ? 'block' : 'none';\n",
              "\n",
              "      buttonEl.onclick = () => {\n",
              "        google.colab.notebook.generateWithVariable('sorted_movie_lists');\n",
              "      }\n",
              "      })();\n",
              "    </script>\n",
              "  </div>\n",
              "\n",
              "    </div>\n",
              "  </div>\n"
            ],
            "application/vnd.google.colaboratory.intrinsic+json": {
              "type": "dataframe",
              "variable_name": "sorted_movie_lists",
              "summary": "{\n  \"name\": \"sorted_movie_lists\",\n  \"rows\": 968,\n  \"fields\": [\n    {\n      \"column\": \"Movie\",\n      \"properties\": {\n        \"dtype\": \"string\",\n        \"num_unique_values\": 968,\n        \"samples\": [\n          \"The Expendables\",\n          \"Red\",\n          \"The Road\"\n        ],\n        \"semantic_type\": \"\",\n        \"description\": \"\"\n      }\n    },\n    {\n      \"column\": \"AudienceScore\",\n      \"properties\": {\n        \"dtype\": \"number\",\n        \"std\": 16.04731438155896,\n        \"min\": 19.0,\n        \"max\": 96.0,\n        \"num_unique_values\": 74,\n        \"samples\": [\n          90.0,\n          32.0,\n          76.0\n        ],\n        \"semantic_type\": \"\",\n        \"description\": \"\"\n      }\n    }\n  ]\n}"
            }
          },
          "metadata": {},
          "execution_count": 21
        }
      ]
    },
    {
      "cell_type": "markdown",
      "source": [
        "**User Testing (Movie from the dataset; to be recommended else)**"
      ],
      "metadata": {
        "id": "JfPFl5-eL_w_"
      }
    },
    {
      "cell_type": "markdown",
      "source": [
        "**Note:**\n",
        "\n",
        "Based on the previous list of movies; you can specify the movie yourself & see the recommendation based off similarity & its similarity score.\n",
        "\n",
        "To ensure that it gives the best result (case sensitive before), any format of writing in the movie name; recommendation will still be provided."
      ],
      "metadata": {
        "id": "-XaJzAF0OT5H"
      }
    },
    {
      "cell_type": "code",
      "source": [
        "# User input and normalization\n",
        "movie_name = input(\"User Input; Provide an movie for further recommendations!: \").strip().lower()\n",
        "\n",
        "# Normalize dataset (therefore any inputs will be readable)\n",
        "df['normalized_movie'] = df['Movie'].str.strip().str.lower()\n",
        "\n",
        "# Check if movie exists within our choosen dataset used (best to note)\n",
        "if movie_name not in df['normalized_movie'].values:\n",
        "    print(f\"Sorry, the movie '{movie_name}' is not included in the dataset.\")\n",
        "else:\n",
        "    # Find original title and recommend movies\n",
        "    movie_example_original = df[df['normalized_movie'] == movie_name].iloc[0]['Movie']\n",
        "    recommended_movies = recommend_movies(movie_example_original, cosine_sim_df)\n",
        "    print(f\"\\nRecommended movies similar to '{movie_example_original}':\\n{recommended_movies}\")"
      ],
      "metadata": {
        "colab": {
          "base_uri": "https://localhost:8080/"
        },
        "id": "kJOAY6EbMEjL",
        "outputId": "c3abfaee-3085-4e40-c2a8-9017c824fce1"
      },
      "execution_count": null,
      "outputs": [
        {
          "output_type": "stream",
          "name": "stdout",
          "text": [
            "User Input; Provide an movie for further recommendations!: inkheart\n",
            "\n",
            "Recommended movies similar to 'Inkheart':\n",
            "Movie\n",
            "Harry Potter and the Half-Blood Prince         0.803709\n",
            "Harry Potter and the Deathly Hallows Part 1    0.798985\n",
            "Fool's Gold                                    0.793231\n",
            "Harry Potter and the Order of the Phoenix      0.730149\n",
            "I Am Legend                                    0.532426\n",
            "Name: Inkheart, dtype: float64\n"
          ]
        }
      ]
    },
    {
      "cell_type": "markdown",
      "source": [
        "**Similarity of movie recommendation are based off the similarity scores of each movie; (to be said the movies are sorted)**"
      ],
      "metadata": {
        "id": "K7NaV4iTRcUX"
      }
    },
    {
      "cell_type": "markdown",
      "source": [
        "With the example provided, I have inputted Harry Potter and the Half-Blood Prince, with the recommendations within the dataset, it shows similar movies to be recommended alongside the cosine similarity score."
      ],
      "metadata": {
        "id": "TetTb6wdYJ46"
      }
    },
    {
      "cell_type": "markdown",
      "source": [
        "**Please See:**\n",
        "\n",
        "If the movie is not in the dataset that is provided/used, the block of code above will not give a recommendation therefore an error will occur.\n",
        "\n",
        "For the result attribute please use any given movie from the dataset for a valid result in providing the closest recommendation results via a cosine similarity score."
      ],
      "metadata": {
        "id": "KaxksrADPD-m"
      }
    },
    {
      "cell_type": "markdown",
      "source": [
        "**Thus, as for future reference/revisits to explore further onto this dataset.**"
      ],
      "metadata": {
        "id": "DqFqrDE8c2Qi"
      }
    }
  ]
}